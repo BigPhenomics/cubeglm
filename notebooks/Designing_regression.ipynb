{
 "cells": [
  {
   "cell_type": "markdown",
   "metadata": {},
   "source": [
    "# Regression to quantify fluorophores"
   ]
  },
  {
   "cell_type": "markdown",
   "metadata": {},
   "source": [
    "In this notebook, we are using gmodetector_py v0.0.1 to import the data, then will write new code to run regression over it."
   ]
  },
  {
   "cell_type": "markdown",
   "metadata": {},
   "source": [
    "## 1. Data import (to be followed by regression itself)"
   ]
  },
  {
   "cell_type": "code",
   "execution_count": 1,
   "metadata": {},
   "outputs": [],
   "source": [
    "from gmodetector_py import XMatrix\n",
    "from gmodetector_py import Hypercube"
   ]
  },
  {
   "cell_type": "code",
   "execution_count": 2,
   "metadata": {},
   "outputs": [],
   "source": [
    "from gmodetector_py import read_wavelengths"
   ]
  },
  {
   "cell_type": "code",
   "execution_count": 3,
   "metadata": {},
   "outputs": [],
   "source": [
    "import glob"
   ]
  },
  {
   "cell_type": "code",
   "execution_count": 4,
   "metadata": {},
   "outputs": [],
   "source": [
    "files_list = glob.glob(\"/scratch2/NSF_GWAS/macroPhor_Array/T16_DEV_genes/EA/wk7/*.hdr\")\n",
    "i = 2\n",
    "file_path = files_list[i]"
   ]
  },
  {
   "cell_type": "code",
   "execution_count": 5,
   "metadata": {},
   "outputs": [
    {
     "name": "stdout",
     "output_type": "stream",
     "text": [
      "Header parameter names converted to lower case.\n"
     ]
    },
    {
     "name": "stderr",
     "output_type": "stream",
     "text": [
      "/scratch2/NSF_GWAS/anaconda3/lib/python3.7/site-packages/spectral/io/envi.py:195: UserWarning: Parameters with non-lowercase names encountered and converted to lowercase. To retain source file parameter name capitalization, set spectral.setttings.envi_support_nonlowercase_params to True.\n",
      "  warnings.warn(msg)\n"
     ]
    }
   ],
   "source": [
    "wavelengths = read_wavelengths(file_path = file_path)"
   ]
  },
  {
   "cell_type": "code",
   "execution_count": 6,
   "metadata": {},
   "outputs": [],
   "source": [
    "min_desired_wavelength = 500\n",
    "max_desired_wavelength = 900"
   ]
  },
  {
   "cell_type": "code",
   "execution_count": 7,
   "metadata": {},
   "outputs": [
    {
     "name": "stdout",
     "output_type": "stream",
     "text": [
      "0\n",
      "  wavelength  intensity\n",
      "0   399.8645   0.000201\n",
      "1   401.0927   0.000201\n",
      "2   402.3212   0.000201\n",
      "3   403.5499   0.000201\n",
      "4   404.7787   0.000201\n",
      "0.01\n",
      "  wavelength  intensity\n",
      "0   399.8645        0.0\n",
      "1   401.0927        0.0\n",
      "2   402.3212        0.0\n",
      "3   403.5499        0.0\n",
      "4   404.7787        0.0\n",
      "1\n",
      "  wavelength  intensity\n",
      "0   399.8645        NaN\n",
      "1   401.0927        NaN\n",
      "2   402.3212        NaN\n",
      "3   403.5499        NaN\n",
      "4   404.7787   0.000706\n",
      "0.01\n",
      "  wavelength  intensity\n",
      "0   399.8645        NaN\n",
      "1   401.0927        NaN\n",
      "2   402.3212        NaN\n",
      "3   403.5499        NaN\n",
      "4   404.7787        0.0\n",
      "2\n",
      "  wavelength  intensity\n",
      "0   399.8645   0.001076\n",
      "1   401.0927   0.001076\n",
      "2   402.3212   0.001076\n",
      "3   403.5499   0.001076\n",
      "4   404.7787   0.001076\n",
      "0.01\n",
      "  wavelength  intensity\n",
      "0   399.8645        0.0\n",
      "1   401.0927        0.0\n",
      "2   402.3212        0.0\n",
      "3   403.5499        0.0\n",
      "4   404.7787        0.0\n",
      "3\n",
      "  wavelength  intensity\n",
      "0   399.8645   0.008441\n",
      "1   401.0927   0.008441\n",
      "2   402.3212   0.008441\n",
      "3   403.5499   0.008441\n",
      "4   404.7787   0.008441\n",
      "0.01\n",
      "  wavelength  intensity\n",
      "0   399.8645        0.0\n",
      "1   401.0927        0.0\n",
      "2   402.3212        0.0\n",
      "3   403.5499        0.0\n",
      "4   404.7787        0.0\n"
     ]
    }
   ],
   "source": [
    "test_matrix = XMatrix(fluorophore_ID_vector = ['DsRed', 'ZsYellow', 'Chl', 'Diffraction'],\n",
    "                      spectral_library_path = \"/scratch2/NSF_GWAS/GMOdetectoR/spectra_library/\",\n",
    "                      intercept = 1,\n",
    "                      wavelengths = wavelengths,\n",
    "                      spectra_noise_threshold = 0.01,\n",
    "                      min_desired_wavelength = min_desired_wavelength,\n",
    "                      max_desired_wavelength = max_desired_wavelength)"
   ]
  },
  {
   "cell_type": "code",
   "execution_count": 8,
   "metadata": {},
   "outputs": [],
   "source": [
    "from gmodetector_py import find_desired_indices"
   ]
  },
  {
   "cell_type": "code",
   "execution_count": 9,
   "metadata": {},
   "outputs": [],
   "source": [
    "import numpy as np"
   ]
  },
  {
   "cell_type": "code",
   "execution_count": 10,
   "metadata": {},
   "outputs": [],
   "source": [
    "subset_indices = find_desired_indices(wavelengths,\n",
    "                                      min_desired_wavelength,\n",
    "                                      max_desired_wavelength)\n",
    "subset_wavelengths = np.array(wavelengths)[subset_indices]"
   ]
  },
  {
   "cell_type": "code",
   "execution_count": 11,
   "metadata": {},
   "outputs": [],
   "source": [
    "import time"
   ]
  },
  {
   "cell_type": "code",
   "execution_count": 12,
   "metadata": {},
   "outputs": [
    {
     "name": "stdout",
     "output_type": "stream",
     "text": [
      "Header parameter names converted to lower case.\n",
      "Header parameter names converted to lower case.\n"
     ]
    },
    {
     "name": "stderr",
     "output_type": "stream",
     "text": [
      "/scratch2/NSF_GWAS/anaconda3/lib/python3.7/site-packages/spectral/io/envi.py:195: UserWarning: Parameters with non-lowercase names encountered and converted to lowercase. To retain source file parameter name capitalization, set spectral.setttings.envi_support_nonlowercase_params to True.\n",
      "  warnings.warn(msg)\n"
     ]
    },
    {
     "name": "stdout",
     "output_type": "stream",
     "text": [
      "Loaded in 1.5617045620456338s\n"
     ]
    }
   ],
   "source": [
    "#### Timing of code\n",
    "time_pre_read = time.perf_counter()\n",
    "test_cube = Hypercube(file_path,\n",
    "                      min_desired_wavelength = min_desired_wavelength,\n",
    "                      max_desired_wavelength = max_desired_wavelength)\n",
    "time_post_read = time.perf_counter() - time_pre_read\n",
    "print('Loaded in ' + str(time_post_read) + 's')"
   ]
  },
  {
   "cell_type": "markdown",
   "metadata": {},
   "source": [
    "## 2. Regression (least squares linear algebra approximate solution)"
   ]
  },
  {
   "cell_type": "markdown",
   "metadata": {},
   "source": [
    "##### In least squares linear regression, we are seeking an approximate solution for weight vector $\\vec{m}$ that, when multiplied with design matrix $A$, produces a spectra as close as possible to tr $\\vec{b}$"
   ]
  },
  {
   "cell_type": "markdown",
   "metadata": {},
   "source": [
    "$$A\\vec{m} = \\vec{b}$$<br>\n",
    "The design matrix $A$ has a row for each wavelength and a column for each fluorescent protein. The values in this matrix represent the signal intensity of each fluorescent protein at each wavelength.<br>\n",
    "The vector $\\vec{b}$ is a representation of the true spectral signature for a given pixel. This is what we aim to deconvolute into individual components (fluorescent protein signals).<br>\n",
    "The relative concentrations of individual component are thus indicated by $\\vec{m}$, which we will solve for."
   ]
  },
  {
   "cell_type": "markdown",
   "metadata": {},
   "source": [
    "The approximate solution for $\\vec{m}$ can be derived from the formula for the sum of squared errors (SSE), which we aim to minimize when fitting $\\vec{m}$ to our data"
   ]
  },
  {
   "cell_type": "markdown",
   "metadata": {},
   "source": [
    "##### First, let's look at the formula for squared error for the prediction at a single wavelength $i$."
   ]
  },
  {
   "cell_type": "markdown",
   "metadata": {},
   "source": [
    "$$e_i(\\vec{m}) = |y_\\vec{m}(\\vec{a_i})-b_i|^2$$<br>\n",
    "Here, $e_i(\\vec{m})$ is the squared error for the prediction of signal intensity at a single wavelength $i$, with the signal intensity at this wavelength for each fluorescent protein contained in $\\vec{a}$"
   ]
  },
  {
   "cell_type": "markdown",
   "metadata": {},
   "source": [
    "##### Now let's expand this to look at the sum of squared error, $S(\\vec{m})$, at all $N$ wavelengths."
   ]
  },
  {
   "cell_type": "markdown",
   "metadata": {},
   "source": [
    "$$S(\\vec{m}) = \\sum_{i=1}^{N}e_i(\\vec{m}) = \\sum_{i=1}^{N}|y_\\vec{m}(\\vec{a_i})-b_i|^2)$$<br>\n",
    "This is simply the summation of the previous formula over all $N$ wavelengths rather than a single wavelength $i$."
   ]
  },
  {
   "cell_type": "markdown",
   "metadata": {},
   "source": [
    "##### Let's rewrite this calculus into pure linear algebra and solve for the weight vector $\\vec{m}$"
   ]
  },
  {
   "cell_type": "markdown",
   "metadata": {},
   "source": [
    "$$S(\\vec{m}) = ||\\vec{y}_\\vec{m}-\\vec{b}||^2$$\n",
    "Above, $\\vec{y}_\\vec{m}$ is a vector of predicted signal intensities (given weights and design matrix) and $\\vec{b}$ is a vector of real values for spectral intensity at each wavelength."
   ]
  },
  {
   "cell_type": "markdown",
   "metadata": {},
   "source": [
    "$$S(\\vec{m}) = ||A\\vec{m}-\\vec{b}||^2$$\n",
    "The previous formula is rewritten to reflect that the vector of predicted values $\\vec{y}_\\vec{m}$ is obtained by matrix-vector multiplication of the weights $\\vec{m}$ and design matrix $A$."
   ]
  },
  {
   "cell_type": "markdown",
   "metadata": {},
   "source": [
    "If we have a model that perfectly fits the data such that a design matrix $A$ and weight vector $\\vec{m}$ have a matrix-vector multiplication product of exactly $\\vec{y}_\\vec{m}$ then $S(\\vec{m})$ will be equal to $0$"
   ]
  },
  {
   "cell_type": "markdown",
   "metadata": {},
   "source": [
    "Where $A\\vec{m} = \\vec{b}$<br>\n",
    "$$S(\\vec{m}) = ||A\\vec{m}-\\vec{b}||^2 = 0$$"
   ]
  },
  {
   "cell_type": "markdown",
   "metadata": {},
   "source": [
    "However, a perfect fit is not realistic. In practice, we will seek the approximate solution, in which $\\vec{m}$ is fit such that $A\\vec{m} ≈ \\vec{b}$"
   ]
  },
  {
   "cell_type": "markdown",
   "metadata": {},
   "source": [
    "Where $A\\vec{m} \\approx \\vec{b}$<br>\n",
    "$$\\min_\\vec{m}S(\\vec{m}) = ||A\\vec{m}-\\vec{b}||^2$$"
   ]
  },
  {
   "cell_type": "markdown",
   "metadata": {},
   "source": [
    "##### Linear algebra can then be applied to solve for $\\vec{m}$ in a manner that is very computationally efficient."
   ]
  },
  {
   "cell_type": "markdown",
   "metadata": {},
   "source": [
    "$$A^TA\\vec{m} \\approx A^T\\vec{b}$$\n",
    "$$\\vec{m} \\approx (A^TA)^{-1}A^T\\vec{b}$$\n",
    "$$\\vec{m} \\approx A^+\\vec{b}$$\n",
    "Note: the matrix $A+ = (A^TA)^{-1}A^T$ is the Moore-Penrose pseudoinverse of $A$"
   ]
  },
  {
   "cell_type": "markdown",
   "metadata": {},
   "source": [
    "Let's implement this calculation of $\\vec{m}$"
   ]
  },
  {
   "cell_type": "code",
   "execution_count": 13,
   "metadata": {},
   "outputs": [],
   "source": [
    "import numpy as np"
   ]
  },
  {
   "cell_type": "code",
   "execution_count": 14,
   "metadata": {},
   "outputs": [
    {
     "data": {
      "text/plain": [
       "(237, 5)"
      ]
     },
     "execution_count": 14,
     "metadata": {},
     "output_type": "execute_result"
    }
   ],
   "source": [
    "test_matrix.matrix.shape"
   ]
  },
  {
   "cell_type": "code",
   "execution_count": 15,
   "metadata": {},
   "outputs": [],
   "source": [
    "MP_pseudoinverse = np.linalg.pinv(test_matrix.matrix)"
   ]
  },
  {
   "cell_type": "markdown",
   "metadata": {},
   "source": [
    "Note that our 3D hypercube needs to be reshaped into a 2D matrix with rows for each $i$ band/wavelength and columns for each $j$ pixel"
   ]
  },
  {
   "cell_type": "code",
   "execution_count": 16,
   "metadata": {},
   "outputs": [
    {
     "data": {
      "text/plain": [
       "(1571, 1419, 237)"
      ]
     },
     "execution_count": 16,
     "metadata": {},
     "output_type": "execute_result"
    }
   ],
   "source": [
    "test_cube.hypercube.shape"
   ]
  },
  {
   "cell_type": "code",
   "execution_count": 17,
   "metadata": {},
   "outputs": [],
   "source": [
    "b_vec = test_cube.hypercube.reshape(test_cube.hypercube.shape[2],\n",
    "                                    test_cube.hypercube.shape[0] * test_cube.hypercube.shape[1])"
   ]
  },
  {
   "cell_type": "code",
   "execution_count": 18,
   "metadata": {},
   "outputs": [
    {
     "data": {
      "text/plain": [
       "(237, 2229249)"
      ]
     },
     "execution_count": 18,
     "metadata": {},
     "output_type": "execute_result"
    }
   ],
   "source": [
    "b_vec.shape"
   ]
  },
  {
   "cell_type": "markdown",
   "metadata": {},
   "source": [
    "Let's make sure that this conversion is reversible."
   ]
  },
  {
   "cell_type": "code",
   "execution_count": 19,
   "metadata": {},
   "outputs": [
    {
     "data": {
      "text/plain": [
       "(1571, 1419, 237)"
      ]
     },
     "execution_count": 19,
     "metadata": {},
     "output_type": "execute_result"
    }
   ],
   "source": [
    "test_cube.hypercube.shape[0:3]"
   ]
  },
  {
   "cell_type": "code",
   "execution_count": 20,
   "metadata": {},
   "outputs": [],
   "source": [
    "reconstructed_hypercube = b_vec.reshape(test_cube.hypercube.shape[0:3])"
   ]
  },
  {
   "cell_type": "code",
   "execution_count": 21,
   "metadata": {},
   "outputs": [
    {
     "data": {
      "text/plain": [
       "True"
      ]
     },
     "execution_count": 21,
     "metadata": {},
     "output_type": "execute_result"
    }
   ],
   "source": [
    "reconstructed_hypercube.all() == test_cube.hypercube.all()"
   ]
  },
  {
   "cell_type": "markdown",
   "metadata": {},
   "source": [
    "##### We are now ready to calculate $\\vec{m} \\approx A^+\\vec{b}$"
   ]
  },
  {
   "cell_type": "markdown",
   "metadata": {},
   "source": [
    "Note: For multiple linear regression, $\\vec{m}$ is a matrix instead of a vector."
   ]
  },
  {
   "cell_type": "code",
   "execution_count": 22,
   "metadata": {},
   "outputs": [
    {
     "data": {
      "text/plain": [
       "(5, 237)"
      ]
     },
     "execution_count": 22,
     "metadata": {},
     "output_type": "execute_result"
    }
   ],
   "source": [
    "MP_pseudoinverse.shape"
   ]
  },
  {
   "cell_type": "code",
   "execution_count": 23,
   "metadata": {},
   "outputs": [],
   "source": [
    "m_vec = np.matmul(MP_pseudoinverse, b_vec)"
   ]
  },
  {
   "cell_type": "code",
   "execution_count": 24,
   "metadata": {},
   "outputs": [
    {
     "data": {
      "text/plain": [
       "(5, 2229249)"
      ]
     },
     "execution_count": 24,
     "metadata": {},
     "output_type": "execute_result"
    }
   ],
   "source": [
    "m_vec.shape"
   ]
  },
  {
   "cell_type": "markdown",
   "metadata": {},
   "source": [
    "##### This needs to be reshaped into a 3D-array of (1571, 1419, 5) where first two dimensions are pixel indices and third is spectral component"
   ]
  },
  {
   "cell_type": "code",
   "execution_count": 32,
   "metadata": {},
   "outputs": [],
   "source": [
    "m_vec = m_vec.reshape(test_cube.hypercube.shape[0],\n",
    "                      test_cube.hypercube.shape[1],\n",
    "                      m_vec.shape[0])"
   ]
  },
  {
   "cell_type": "code",
   "execution_count": 33,
   "metadata": {},
   "outputs": [
    {
     "data": {
      "text/plain": [
       "(1571, 1419, 5)"
      ]
     },
     "execution_count": 33,
     "metadata": {},
     "output_type": "execute_result"
    }
   ],
   "source": [
    "m_vec.shape"
   ]
  },
  {
   "cell_type": "markdown",
   "metadata": {},
   "source": [
    "Success. Now time to functionalize."
   ]
  },
  {
   "cell_type": "code",
   "execution_count": 51,
   "metadata": {},
   "outputs": [],
   "source": [
    "def regress(test_matrix, test_cube):\n",
    "    \"\"\" Perform least squares (multiple) linear regression to regress hypercube onto design matrix and obtain weights for each spectral component in each pixel\n",
    "    \n",
    "    :param test_matrix: An object of class XMatrix (containing normalized spectra for each known component, and intercept if applicable)\n",
    "    :param test_cube: An object of class Hypercube (containing spectra for each pixel)\n",
    "    \"\"\"\n",
    "    \n",
    "    MP_pseudoinverse = np.linalg.pinv(test_matrix.matrix)\n",
    "    b_vec = test_cube.hypercube.reshape(test_cube.hypercube.shape[2],\n",
    "                                        test_cube.hypercube.shape[0] * test_cube.hypercube.shape[1])\n",
    "    m_vec = np.matmul(MP_pseudoinverse, b_vec)\n",
    "    m_vec = m_vec.reshape(test_cube.hypercube.shape[0],\n",
    "                          test_cube.hypercube.shape[1],\n",
    "                          m_vec.shape[0])\n",
    "    return(m_vec)"
   ]
  },
  {
   "cell_type": "markdown",
   "metadata": {},
   "source": [
    "Test and time this function."
   ]
  },
  {
   "cell_type": "code",
   "execution_count": 37,
   "metadata": {},
   "outputs": [
    {
     "name": "stdout",
     "output_type": "stream",
     "text": [
      "Loaded in 8.609980219043791s\n"
     ]
    }
   ],
   "source": [
    "#### Timing of code\n",
    "time_pre_read = time.perf_counter()\n",
    "weight_array = regress(test_matrix = test_matrix,\n",
    "                    test_cube = test_cube)\n",
    "time_post_read = time.perf_counter() - time_pre_read\n",
    "print('Loaded in ' + str(time_post_read) + 's')"
   ]
  },
  {
   "cell_type": "markdown",
   "metadata": {},
   "source": [
    "Is the shape correct? Should be (1571, 1419, 5)"
   ]
  },
  {
   "cell_type": "code",
   "execution_count": 38,
   "metadata": {},
   "outputs": [
    {
     "data": {
      "text/plain": [
       "(1571, 1419, 5)"
      ]
     },
     "execution_count": 38,
     "metadata": {},
     "output_type": "execute_result"
    }
   ],
   "source": [
    "weight_array.shape"
   ]
  },
  {
   "cell_type": "markdown",
   "metadata": {},
   "source": [
    "##### Now make a WeightMatrix class"
   ]
  },
  {
   "cell_type": "code",
   "execution_count": 48,
   "metadata": {},
   "outputs": [],
   "source": [
    "class WeightArray:\n",
    "    \"\"\"A 3D array containing weights for each spectral component, obtained by regression of hybercube onto design matrix\n",
    "    \n",
    "    :param test_matrix: An object of class XMatrix (containing normalized spectra for each known component, and intercept if applicable)\n",
    "    :param test_cube: An object of class Hypercube (containing spectra for each pixel)\n",
    "    :ivar wavelengths: contains the contents of ``wavelengths`` passed from ``test_matrix`` and ``test_cube`` (must be same, or will yield error)\n",
    "    :ivar weights: 3D array containing weight values\n",
    "    \n",
    "    \"\"\"\n",
    "    \n",
    "    def __init__(self, test_matrix, test_cube):\n",
    "        \n",
    "        if test_matrix.wavelengths.astype(np.float).all() != test_cube.wavelengths.astype(np.float).all():\n",
    "            raise Exception(\"Design matrix and hypercube do not have the same ``wavelengths`` attribute. Make sure to set the same ``min_desired_wavelength`` and ``max_desired_wavelength`` when creating both objects.\")\n",
    "        \n",
    "        self.wavelengths = test_matrix.wavelengths\n",
    "        self.weights = regress(test_matrix = test_matrix,\n",
    "                               test_cube = test_cube)"
   ]
  },
  {
   "cell_type": "code",
   "execution_count": 49,
   "metadata": {},
   "outputs": [
    {
     "name": "stdout",
     "output_type": "stream",
     "text": [
      "Loaded in 6.021811260841787s\n"
     ]
    }
   ],
   "source": [
    "#### Timing of code\n",
    "time_pre_read = time.perf_counter()\n",
    "weight_array = WeightArray(test_matrix = test_matrix,\n",
    "                           test_cube = test_cube)\n",
    "time_post_read = time.perf_counter() - time_pre_read\n",
    "print('Loaded in ' + str(time_post_read) + 's')"
   ]
  },
  {
   "cell_type": "markdown",
   "metadata": {},
   "source": [
    "##### As this solution is approximate, it can be useful to calculate the variance and a variance-normalized test-statistic. However, this is very computationally expensive and is NOT done by commercial hyperspectral analysis software LabSpec <a href=\"https://link.springer.com/article/10.1007/s40789-019-0252-7\" target=\"_blank\">Böhme, et al. 2019</a> or KemoQuant."
   ]
  },
  {
   "cell_type": "markdown",
   "metadata": {},
   "source": [
    "$$A\\vec{m} = \\hat{\\vec{b}} \\approx{\\vec{b}}$$\n",
    "$$\\sigma^2 = \\frac{S(\\vec{m})}{df}$$\n",
    "$$\\sigma^2 = \\frac{||A\\vec{m}-\\vec{b}||^2}{df}$$\n",
    "$$\\sigma^2 = \\frac{(A\\vec{m}-\\vec{b})^T(A\\vec{m}-\\vec{b})}{df}$$"
   ]
  },
  {
   "cell_type": "markdown",
   "metadata": {},
   "source": [
    "$$\\sigma^2 = \\frac{(A\\vec{m}-\\vec{b})^T(A\\vec{m}-\\vec{b})}{n-p-1}$$"
   ]
  },
  {
   "cell_type": "markdown",
   "metadata": {},
   "source": [
    "$\\sigma^2$ is the variance of residuals (mean squared error). This is a single value (for a given pixel)."
   ]
  },
  {
   "cell_type": "code",
   "execution_count": 25,
   "metadata": {},
   "outputs": [],
   "source": [
    "residuals = np.subtract(np.matmul(test_matrix.matrix,\n",
    "                                  m_vec),\n",
    "                        b_vec)"
   ]
  },
  {
   "cell_type": "code",
   "execution_count": 26,
   "metadata": {},
   "outputs": [
    {
     "data": {
      "text/plain": [
       "(237, 2229249)"
      ]
     },
     "execution_count": 26,
     "metadata": {},
     "output_type": "execute_result"
    }
   ],
   "source": [
    "residuals.shape"
   ]
  },
  {
   "cell_type": "code",
   "execution_count": 27,
   "metadata": {},
   "outputs": [
    {
     "data": {
      "text/plain": [
       "(237, 5)"
      ]
     },
     "execution_count": 27,
     "metadata": {},
     "output_type": "execute_result"
    }
   ],
   "source": [
    "test_matrix.matrix.shape"
   ]
  },
  {
   "cell_type": "code",
   "execution_count": 28,
   "metadata": {},
   "outputs": [
    {
     "ename": "MemoryError",
     "evalue": "Unable to allocate 36.2 TiB for an array with shape (2229249, 2229249) and data type float64",
     "output_type": "error",
     "traceback": [
      "\u001b[0;31m---------------------------------------------------------------------------\u001b[0m",
      "\u001b[0;31mMemoryError\u001b[0m                               Traceback (most recent call last)",
      "\u001b[0;32m<ipython-input-28-7c3ec44d1f50>\u001b[0m in \u001b[0;36m<module>\u001b[0;34m\u001b[0m\n\u001b[1;32m      1\u001b[0m \u001b[0mtime_pre_read\u001b[0m \u001b[0;34m=\u001b[0m \u001b[0mtime\u001b[0m\u001b[0;34m.\u001b[0m\u001b[0mperf_counter\u001b[0m\u001b[0;34m(\u001b[0m\u001b[0;34m)\u001b[0m\u001b[0;34m\u001b[0m\u001b[0;34m\u001b[0m\u001b[0m\n\u001b[0;32m----> 2\u001b[0;31m \u001b[0mresidual_modsqr\u001b[0m \u001b[0;34m=\u001b[0m \u001b[0mnp\u001b[0m\u001b[0;34m.\u001b[0m\u001b[0mmatmul\u001b[0m\u001b[0;34m(\u001b[0m\u001b[0mresiduals\u001b[0m\u001b[0;34m.\u001b[0m\u001b[0mtranspose\u001b[0m\u001b[0;34m(\u001b[0m\u001b[0;34m)\u001b[0m\u001b[0;34m,\u001b[0m \u001b[0mresiduals\u001b[0m\u001b[0;34m)\u001b[0m\u001b[0;34m\u001b[0m\u001b[0;34m\u001b[0m\u001b[0m\n\u001b[0m\u001b[1;32m      3\u001b[0m \u001b[0mtime_post_read\u001b[0m \u001b[0;34m=\u001b[0m \u001b[0mtime\u001b[0m\u001b[0;34m.\u001b[0m\u001b[0mperf_counter\u001b[0m\u001b[0;34m(\u001b[0m\u001b[0;34m)\u001b[0m \u001b[0;34m-\u001b[0m \u001b[0mtime_pre_read\u001b[0m\u001b[0;34m\u001b[0m\u001b[0;34m\u001b[0m\u001b[0m\n\u001b[1;32m      4\u001b[0m \u001b[0mprint\u001b[0m\u001b[0;34m(\u001b[0m\u001b[0;34m'Calculated in '\u001b[0m \u001b[0;34m+\u001b[0m \u001b[0mstr\u001b[0m\u001b[0;34m(\u001b[0m\u001b[0mtime_post_read\u001b[0m\u001b[0;34m)\u001b[0m \u001b[0;34m+\u001b[0m \u001b[0;34m's'\u001b[0m\u001b[0;34m)\u001b[0m\u001b[0;34m\u001b[0m\u001b[0;34m\u001b[0m\u001b[0m\n",
      "\u001b[0;31mMemoryError\u001b[0m: Unable to allocate 36.2 TiB for an array with shape (2229249, 2229249) and data type float64"
     ]
    }
   ],
   "source": [
    "time_pre_read = time.perf_counter()\n",
    "residual_modsqr = np.matmul(residuals.transpose(), residuals)\n",
    "time_post_read = time.perf_counter() - time_pre_read\n",
    "print('Calculated in ' + str(time_post_read) + 's')"
   ]
  },
  {
   "cell_type": "markdown",
   "metadata": {},
   "source": [
    "Too computationally expensive to do without breaking the matrix down into parts."
   ]
  },
  {
   "cell_type": "markdown",
   "metadata": {},
   "source": [
    "$$\\widehat{V(\\hat{\\beta})} = \\sigma^2(X^TX)^{-1}$$"
   ]
  },
  {
   "cell_type": "markdown",
   "metadata": {},
   "source": [
    "$\\widehat{V(\\hat{\\beta})}$ is a matrix containing covariances of linear regression coefficient estimates."
   ]
  },
  {
   "cell_type": "markdown",
   "metadata": {},
   "source": [
    "$$\\overrightarrow{SE(\\hat{\\beta})} = diag(\\widehat{V(\\hat{\\beta})})$$"
   ]
  },
  {
   "cell_type": "markdown",
   "metadata": {},
   "source": [
    "$\\overrightarrow{SE(\\hat{\\beta})}$ is a vector containing the standard variance for each fluorescent protein (preceeded by the intercept, if applicable)."
   ]
  },
  {
   "cell_type": "markdown",
   "metadata": {},
   "source": [
    "$$\\vec{t}=\\frac{\\hat{\\vec{b}}}{\\overrightarrow{SE(\\hat{\\beta})}}$$"
   ]
  },
  {
   "cell_type": "markdown",
   "metadata": {},
   "source": [
    "$\\vec{t}$ is a vector of test statistics, indicating for each component how significant the fluorescent signal is... (preceeded by a term for the y-intercept if applicable)"
   ]
  },
  {
   "cell_type": "code",
   "execution_count": null,
   "metadata": {},
   "outputs": [],
   "source": []
  }
 ],
 "metadata": {
  "kernelspec": {
   "display_name": "test-environment",
   "language": "python",
   "name": "test-environment"
  },
  "language_info": {
   "codemirror_mode": {
    "name": "ipython",
    "version": 3
   },
   "file_extension": ".py",
   "mimetype": "text/x-python",
   "name": "python",
   "nbconvert_exporter": "python",
   "pygments_lexer": "ipython3",
   "version": "3.7.4"
  }
 },
 "nbformat": 4,
 "nbformat_minor": 4
}
