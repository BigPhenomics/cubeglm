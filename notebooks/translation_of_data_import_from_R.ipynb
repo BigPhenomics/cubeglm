{
 "cells": [
  {
   "cell_type": "markdown",
   "metadata": {},
   "source": [
    "# Translation of data import from R"
   ]
  },
  {
   "cell_type": "markdown",
   "metadata": {},
   "source": [
    "The data we are importing and formatting is for hyperspectral data and spectra (which we also fit). I translate several R functions here. This is preparation for running regression in Python (on a GPU, for faster runtimes than we've been able to get in R)."
   ]
  },
  {
   "cell_type": "code",
   "execution_count": 2,
   "metadata": {},
   "outputs": [],
   "source": [
    "import tensorflow as tf"
   ]
  },
  {
   "cell_type": "code",
   "execution_count": 3,
   "metadata": {},
   "outputs": [],
   "source": [
    "import spectral.io.envi as envi"
   ]
  },
  {
   "cell_type": "code",
   "execution_count": 4,
   "metadata": {},
   "outputs": [],
   "source": [
    "import glob"
   ]
  },
  {
   "cell_type": "code",
   "execution_count": 5,
   "metadata": {},
   "outputs": [],
   "source": [
    "import pandas as pd"
   ]
  },
  {
   "cell_type": "code",
   "execution_count": 6,
   "metadata": {},
   "outputs": [],
   "source": [
    "import numpy as np"
   ]
  },
  {
   "cell_type": "code",
   "execution_count": null,
   "metadata": {},
   "outputs": [],
   "source": []
  },
  {
   "cell_type": "code",
   "execution_count": 7,
   "metadata": {},
   "outputs": [],
   "source": [
    "from rpy2.robjects import numpy2ri"
   ]
  },
  {
   "cell_type": "code",
   "execution_count": 49,
   "metadata": {},
   "outputs": [],
   "source": [
    "files_list = glob.glob(\"/scratch2/NSF_GWAS/macroPhor_Array/T16_DEV_genes/EA/wk7/*.hdr\")"
   ]
  },
  {
   "cell_type": "code",
   "execution_count": 18,
   "metadata": {},
   "outputs": [],
   "source": [
    "spectral_library_path = \"/scratch2/NSF_GWAS/GMOdetectoR/spectra_library/\""
   ]
  },
  {
   "cell_type": "code",
   "execution_count": 50,
   "metadata": {},
   "outputs": [],
   "source": [
    "i = 2"
   ]
  },
  {
   "cell_type": "code",
   "execution_count": 51,
   "metadata": {},
   "outputs": [],
   "source": [
    "file_path = files_list[i]"
   ]
  },
  {
   "cell_type": "code",
   "execution_count": 52,
   "metadata": {},
   "outputs": [
    {
     "data": {
      "text/plain": [
       "'/scratch2/NSF_GWAS/macroPhor_Array/T16_DEV_genes/EA/wk7/EA2_15.0_F1.9_L100_101751_7_1_6.hdr'"
      ]
     },
     "execution_count": 52,
     "metadata": {},
     "output_type": "execute_result"
    }
   ],
   "source": [
    "file_path"
   ]
  },
  {
   "cell_type": "code",
   "execution_count": 21,
   "metadata": {},
   "outputs": [
    {
     "name": "stdout",
     "output_type": "stream",
     "text": [
      "Header parameter names converted to lower case.\n"
     ]
    },
    {
     "name": "stderr",
     "output_type": "stream",
     "text": [
      "/scratch2/NSF_GWAS/anaconda3/lib/python3.7/site-packages/spectral/io/envi.py:195: UserWarning: Parameters with non-lowercase names encountered and converted to lowercase. To retain source file parameter name capitalization, set spectral.setttings.envi_support_nonlowercase_params to True.\n",
      "  warnings.warn(msg)\n"
     ]
    }
   ],
   "source": [
    "img = envi.open(file_path)"
   ]
  },
  {
   "cell_type": "code",
   "execution_count": 22,
   "metadata": {},
   "outputs": [
    {
     "data": {
      "text/plain": [
       "(1571, 1419, 318)"
      ]
     },
     "execution_count": 22,
     "metadata": {},
     "output_type": "execute_result"
    }
   ],
   "source": [
    "img.shape"
   ]
  },
  {
   "cell_type": "code",
   "execution_count": 23,
   "metadata": {},
   "outputs": [
    {
     "data": {
      "text/plain": [
       "spectral.io.bilfile.BilFile"
      ]
     },
     "execution_count": 23,
     "metadata": {},
     "output_type": "execute_result"
    }
   ],
   "source": [
    "type(img)"
   ]
  },
  {
   "cell_type": "markdown",
   "metadata": {},
   "source": [
    "##### Get wavelengths"
   ]
  },
  {
   "cell_type": "code",
   "execution_count": 24,
   "metadata": {},
   "outputs": [
    {
     "name": "stdout",
     "output_type": "stream",
     "text": [
      "Header parameter names converted to lower case.\n"
     ]
    }
   ],
   "source": [
    "h = envi.read_envi_header(file_path)\n",
    "wavelengths = h['wavelength']"
   ]
  },
  {
   "cell_type": "markdown",
   "metadata": {},
   "source": [
    "##### Read in spectra"
   ]
  },
  {
   "cell_type": "code",
   "execution_count": 25,
   "metadata": {},
   "outputs": [],
   "source": [
    "spectral_library = ['DsRed', 'ZsYellow', 'Chl', 'Diffraction']"
   ]
  },
  {
   "cell_type": "code",
   "execution_count": 26,
   "metadata": {},
   "outputs": [],
   "source": [
    "j = 0"
   ]
  },
  {
   "cell_type": "code",
   "execution_count": 27,
   "metadata": {},
   "outputs": [],
   "source": [
    "spectra_path = (spectral_library_path + spectral_library[j] + '.csv')"
   ]
  },
  {
   "cell_type": "code",
   "execution_count": 28,
   "metadata": {},
   "outputs": [
    {
     "data": {
      "text/plain": [
       "'/scratch2/NSF_GWAS/GMOdetectoR/spectra_library/DsRed.csv'"
      ]
     },
     "execution_count": 28,
     "metadata": {},
     "output_type": "execute_result"
    }
   ],
   "source": [
    "spectra_path"
   ]
  },
  {
   "cell_type": "code",
   "execution_count": 29,
   "metadata": {},
   "outputs": [],
   "source": [
    "pub_emission_spectrum = pd.read_csv(spectra_path)"
   ]
  },
  {
   "cell_type": "code",
   "execution_count": 30,
   "metadata": {},
   "outputs": [],
   "source": [
    "pub_emission_spectrum = pub_emission_spectrum.rename(columns={'emission wavelength (nm)': 'wavelength'})\n",
    "pub_emission_spectrum = pub_emission_spectrum.rename(columns={'Normalized emission': 'intensity'})"
   ]
  },
  {
   "cell_type": "code",
   "execution_count": 35,
   "metadata": {},
   "outputs": [],
   "source": [
    "#import rpy2.robjects as robjects\n",
    "from rpy2.robjects.packages import importr\n",
    "#ts=robjects.r('ts')\n",
    "stats=importr('stats')"
   ]
  },
  {
   "cell_type": "code",
   "execution_count": 36,
   "metadata": {},
   "outputs": [],
   "source": [
    "import rpy2.robjects as ro\n",
    "from rpy2.robjects.conversion import localconverter\n",
    "from rpy2.robjects import pandas2ri"
   ]
  },
  {
   "cell_type": "code",
   "execution_count": 37,
   "metadata": {},
   "outputs": [],
   "source": [
    "scales=importr('scales')"
   ]
  },
  {
   "cell_type": "code",
   "execution_count": 38,
   "metadata": {},
   "outputs": [
    {
     "name": "stdout",
     "output_type": "stream",
     "text": [
      "3.3.5\n"
     ]
    }
   ],
   "source": [
    "import rpy2\n",
    "print(rpy2.__version__)"
   ]
  },
  {
   "cell_type": "code",
   "execution_count": 41,
   "metadata": {},
   "outputs": [],
   "source": [
    "# Convert pandas object to something R-friendly https://rpy2.github.io/doc/latest/html/pandas.html\n",
    "with localconverter(ro.default_converter + ro.pandas2ri.converter):\n",
    "  r_from_pd_df = ro.conversion.py2rpy(pub_emission_spectrum) # If not in rpy2=2.9.4 may have error here due to no attribute 'py2rpy'\n",
    "\n",
    "# Use rpy2 so we can use loess from R, as in old version, get same exact results\n",
    "fit = stats.loess(ro.Formula('intensity~wavelength'), data=r_from_pd_df, span=0.1)"
   ]
  },
  {
   "cell_type": "code",
   "execution_count": 42,
   "metadata": {},
   "outputs": [],
   "source": [
    "predict_from = {'wavelength':wavelengths}\n",
    "predict_from = pd.DataFrame(predict_from)\n",
    "\n",
    "with localconverter(ro.default_converter + ro.pandas2ri.converter):\n",
    "  r_predict_from = ro.conversion.py2rpy(pub_emission_spectrum) # If not in rpy2=2.9.4 may have error here due to no attribute 'py2rpy'\n",
    "\n"
   ]
  },
  {
   "cell_type": "code",
   "execution_count": 99,
   "metadata": {},
   "outputs": [],
   "source": [
    "predictions = stats.predict(fit, r_predict_from)"
   ]
  },
  {
   "cell_type": "code",
   "execution_count": 100,
   "metadata": {},
   "outputs": [
    {
     "data": {
      "text/plain": [
       "0.9480948344687715"
      ]
     },
     "execution_count": 100,
     "metadata": {},
     "output_type": "execute_result"
    }
   ],
   "source": [
    "max(predictions)"
   ]
  },
  {
   "cell_type": "code",
   "execution_count": 101,
   "metadata": {},
   "outputs": [],
   "source": [
    "predictions = scales.rescale(predictions, center='FALSE') # by default, scales between 0 and 1."
   ]
  },
  {
   "cell_type": "code",
   "execution_count": 102,
   "metadata": {},
   "outputs": [],
   "source": [
    "scaled_emission_spectra = {'wavelength': wavelengths, 'intensity': predictions}\n",
    "scaled_emission_spectra = pd.DataFrame(scaled_emission_spectra)"
   ]
  },
  {
   "cell_type": "code",
   "execution_count": 103,
   "metadata": {},
   "outputs": [
    {
     "data": {
      "text/html": [
       "\n",
       "        <span>FloatVector with 318 elements.</span>\n",
       "        <table>\n",
       "        <tbody>\n",
       "          <tr>\n",
       "          \n",
       "            <td>\n",
       "            0.000201\n",
       "            </td>\n",
       "          \n",
       "            <td>\n",
       "            0.000201\n",
       "            </td>\n",
       "          \n",
       "            <td>\n",
       "            0.000201\n",
       "            </td>\n",
       "          \n",
       "            <td>\n",
       "            ...\n",
       "            </td>\n",
       "          \n",
       "            <td>\n",
       "            0.000201\n",
       "            </td>\n",
       "          \n",
       "            <td>\n",
       "            0.000201\n",
       "            </td>\n",
       "          \n",
       "            <td>\n",
       "            0.000201\n",
       "            </td>\n",
       "          \n",
       "          </tr>\n",
       "        </tbody>\n",
       "        </table>\n",
       "        "
      ],
      "text/plain": [
       "R object with classes: ('numeric',) mapped to:\n",
       "[0.000201, 0.000201, 0.000201, 0.000201, ..., 0.000201, 0.000201, 0.000201, 0.000201]"
      ]
     },
     "execution_count": 103,
     "metadata": {},
     "output_type": "execute_result"
    }
   ],
   "source": [
    "predictions"
   ]
  },
  {
   "cell_type": "markdown",
   "metadata": {},
   "source": [
    "Why are these 0.000201 instead of 0 after scaling?"
   ]
  },
  {
   "cell_type": "code",
   "execution_count": 104,
   "metadata": {},
   "outputs": [],
   "source": [
    "# print(predictions)"
   ]
  },
  {
   "cell_type": "markdown",
   "metadata": {},
   "source": [
    "Because the 0 is in the middle. Will get rid of noise outside spectra with a threshold."
   ]
  },
  {
   "cell_type": "code",
   "execution_count": 105,
   "metadata": {},
   "outputs": [],
   "source": [
    "spectra_noise_threshold = float(0.001)"
   ]
  },
  {
   "cell_type": "code",
   "execution_count": 106,
   "metadata": {},
   "outputs": [
    {
     "data": {
      "text/plain": [
       "float"
      ]
     },
     "execution_count": 106,
     "metadata": {},
     "output_type": "execute_result"
    }
   ],
   "source": [
    "type(spectra_noise_threshold)"
   ]
  },
  {
   "cell_type": "code",
   "execution_count": 107,
   "metadata": {},
   "outputs": [
    {
     "data": {
      "text/plain": [
       "pandas.core.frame.DataFrame"
      ]
     },
     "execution_count": 107,
     "metadata": {},
     "output_type": "execute_result"
    }
   ],
   "source": [
    "type(scaled_emission_spectra)"
   ]
  },
  {
   "cell_type": "code",
   "execution_count": 109,
   "metadata": {},
   "outputs": [],
   "source": [
    "scaled_emission_spectra.loc[scaled_emission_spectra['intensity'] < spectra_noise_threshold, 'intensity'] = 0"
   ]
  },
  {
   "cell_type": "markdown",
   "metadata": {},
   "source": [
    "Did it work?"
   ]
  },
  {
   "cell_type": "code",
   "execution_count": 110,
   "metadata": {},
   "outputs": [
    {
     "data": {
      "text/plain": [
       "0.0"
      ]
     },
     "execution_count": 110,
     "metadata": {},
     "output_type": "execute_result"
    }
   ],
   "source": [
    "min(scaled_emission_spectra['intensity'])"
   ]
  },
  {
   "cell_type": "markdown",
   "metadata": {},
   "source": [
    "Yes. Min is now 0 instead of 0.000201"
   ]
  },
  {
   "cell_type": "code",
   "execution_count": 111,
   "metadata": {},
   "outputs": [
    {
     "data": {
      "text/html": [
       "<div>\n",
       "<style scoped>\n",
       "    .dataframe tbody tr th:only-of-type {\n",
       "        vertical-align: middle;\n",
       "    }\n",
       "\n",
       "    .dataframe tbody tr th {\n",
       "        vertical-align: top;\n",
       "    }\n",
       "\n",
       "    .dataframe thead th {\n",
       "        text-align: right;\n",
       "    }\n",
       "</style>\n",
       "<table border=\"1\" class=\"dataframe\">\n",
       "  <thead>\n",
       "    <tr style=\"text-align: right;\">\n",
       "      <th></th>\n",
       "      <th>wavelength</th>\n",
       "      <th>intensity</th>\n",
       "    </tr>\n",
       "  </thead>\n",
       "  <tbody>\n",
       "    <tr>\n",
       "      <th>0</th>\n",
       "      <td>399.8645</td>\n",
       "      <td>0.0</td>\n",
       "    </tr>\n",
       "    <tr>\n",
       "      <th>1</th>\n",
       "      <td>401.0927</td>\n",
       "      <td>0.0</td>\n",
       "    </tr>\n",
       "    <tr>\n",
       "      <th>2</th>\n",
       "      <td>402.3212</td>\n",
       "      <td>0.0</td>\n",
       "    </tr>\n",
       "    <tr>\n",
       "      <th>3</th>\n",
       "      <td>403.5499</td>\n",
       "      <td>0.0</td>\n",
       "    </tr>\n",
       "    <tr>\n",
       "      <th>4</th>\n",
       "      <td>404.7787</td>\n",
       "      <td>0.0</td>\n",
       "    </tr>\n",
       "    <tr>\n",
       "      <th>...</th>\n",
       "      <td>...</td>\n",
       "      <td>...</td>\n",
       "    </tr>\n",
       "    <tr>\n",
       "      <th>313</th>\n",
       "      <td>794.6728</td>\n",
       "      <td>0.0</td>\n",
       "    </tr>\n",
       "    <tr>\n",
       "      <th>314</th>\n",
       "      <td>795.9675</td>\n",
       "      <td>0.0</td>\n",
       "    </tr>\n",
       "    <tr>\n",
       "      <th>315</th>\n",
       "      <td>797.2625</td>\n",
       "      <td>0.0</td>\n",
       "    </tr>\n",
       "    <tr>\n",
       "      <th>316</th>\n",
       "      <td>798.5575</td>\n",
       "      <td>0.0</td>\n",
       "    </tr>\n",
       "    <tr>\n",
       "      <th>317</th>\n",
       "      <td>799.8529</td>\n",
       "      <td>0.0</td>\n",
       "    </tr>\n",
       "  </tbody>\n",
       "</table>\n",
       "<p>318 rows × 2 columns</p>\n",
       "</div>"
      ],
      "text/plain": [
       "    wavelength  intensity\n",
       "0     399.8645        0.0\n",
       "1     401.0927        0.0\n",
       "2     402.3212        0.0\n",
       "3     403.5499        0.0\n",
       "4     404.7787        0.0\n",
       "..         ...        ...\n",
       "313   794.6728        0.0\n",
       "314   795.9675        0.0\n",
       "315   797.2625        0.0\n",
       "316   798.5575        0.0\n",
       "317   799.8529        0.0\n",
       "\n",
       "[318 rows x 2 columns]"
      ]
     },
     "execution_count": 111,
     "metadata": {},
     "output_type": "execute_result"
    }
   ],
   "source": [
    "scaled_emission_spectra"
   ]
  },
  {
   "cell_type": "markdown",
   "metadata": {},
   "source": [
    "##### Pack up into read_plot_spectra function equivalent to R version (but without integration of plot support yet)"
   ]
  },
  {
   "cell_type": "code",
   "execution_count": 39,
   "metadata": {},
   "outputs": [],
   "source": [
    "def read_fit_spectra(spectra_path, wavelengths, plot=False, spectra_noise_threshold = 0.001):\n",
    "    \n",
    "    numpy2ri.activate()\n",
    "\n",
    "    pub_emission_spectrum = pd.read_csv(spectra_path)\n",
    "    pub_emission_spectrum = pub_emission_spectrum.rename(columns={'emission wavelength (nm)': 'wavelength'})\n",
    "    pub_emission_spectrum = pub_emission_spectrum.rename(columns={'Normalized emission': 'intensity'})\n",
    "\n",
    "    # Convert pandas object to something R-friendly https://rpy2.github.io/doc/latest/html/pandas.html\n",
    "    with localconverter(ro.default_converter + ro.pandas2ri.converter):\n",
    "        r_from_pd_df = ro.conversion.py2rpy(pub_emission_spectrum) # If not in rpy2=2.9.4 may have error here due to no attribute 'py2rpy'\n",
    "\n",
    "    # Use rpy2 so we can use loess from R, as in old version, get same exact results\n",
    "    # Fit\n",
    "    fit = stats.loess(ro.Formula('intensity~wavelength'), data=r_from_pd_df, span=0.1)\n",
    "\n",
    "    # Prepare to predict\n",
    "    predict_from = {'wavelength':wavelengths}\n",
    "    predict_from = pd.DataFrame(predict_from)\n",
    "\n",
    "    with localconverter(ro.default_converter + ro.pandas2ri.converter):\n",
    "        r_predict_from = ro.conversion.py2rpy(pub_emission_spectrum) # If not in rpy2>3.0.5 may have error here due to no attribute 'py2rpy'\n",
    "\n",
    "    # Predict\n",
    "    predictions = stats.predict(fit, r_predict_from)\n",
    "    predictions = scales.rescale(predictions, center='FALSE') # by default, scales between 0 and 1.\n",
    "\n",
    "    # Scale\n",
    "    scaled_emission_spectra = {'wavelength': wavelengths, 'intensity': predictions}\n",
    "    scaled_emission_spectra = pd.DataFrame(scaled_emission_spectra)\n",
    "\n",
    "    # Denoise\n",
    "    scaled_emission_spectra.loc[scaled_emission_spectra['intensity'] < spectra_noise_threshold, 'intensity'] = 0\n",
    "\n",
    "    if plot == True:\n",
    "        print('Plotting not supported here yet.')\n",
    "\n",
    "    numpy2ri.deactivate()\n",
    "        \n",
    "    return(scaled_emission_spectra)"
   ]
  },
  {
   "cell_type": "markdown",
   "metadata": {},
   "source": [
    "Test the function"
   ]
  },
  {
   "cell_type": "code",
   "execution_count": 40,
   "metadata": {},
   "outputs": [],
   "source": [
    "scaled_emission_spectra_test = read_fit_spectra(spectra_path = spectra_path,\n",
    "                                                wavelengths = wavelengths,\n",
    "                                                plot = False,\n",
    "                                                spectra_noise_threshold = 0.001)"
   ]
  },
  {
   "cell_type": "code",
   "execution_count": null,
   "metadata": {},
   "outputs": [],
   "source": []
  },
  {
   "cell_type": "code",
   "execution_count": 120,
   "metadata": {},
   "outputs": [
    {
     "data": {
      "text/html": [
       "<div>\n",
       "<style scoped>\n",
       "    .dataframe tbody tr th:only-of-type {\n",
       "        vertical-align: middle;\n",
       "    }\n",
       "\n",
       "    .dataframe tbody tr th {\n",
       "        vertical-align: top;\n",
       "    }\n",
       "\n",
       "    .dataframe thead th {\n",
       "        text-align: right;\n",
       "    }\n",
       "</style>\n",
       "<table border=\"1\" class=\"dataframe\">\n",
       "  <thead>\n",
       "    <tr style=\"text-align: right;\">\n",
       "      <th></th>\n",
       "      <th>wavelength</th>\n",
       "      <th>intensity</th>\n",
       "    </tr>\n",
       "  </thead>\n",
       "  <tbody>\n",
       "    <tr>\n",
       "      <th>0</th>\n",
       "      <td>399.8645</td>\n",
       "      <td>0.0</td>\n",
       "    </tr>\n",
       "    <tr>\n",
       "      <th>1</th>\n",
       "      <td>401.0927</td>\n",
       "      <td>0.0</td>\n",
       "    </tr>\n",
       "    <tr>\n",
       "      <th>2</th>\n",
       "      <td>402.3212</td>\n",
       "      <td>0.0</td>\n",
       "    </tr>\n",
       "    <tr>\n",
       "      <th>3</th>\n",
       "      <td>403.5499</td>\n",
       "      <td>0.0</td>\n",
       "    </tr>\n",
       "    <tr>\n",
       "      <th>4</th>\n",
       "      <td>404.7787</td>\n",
       "      <td>0.0</td>\n",
       "    </tr>\n",
       "    <tr>\n",
       "      <th>...</th>\n",
       "      <td>...</td>\n",
       "      <td>...</td>\n",
       "    </tr>\n",
       "    <tr>\n",
       "      <th>313</th>\n",
       "      <td>794.6728</td>\n",
       "      <td>0.0</td>\n",
       "    </tr>\n",
       "    <tr>\n",
       "      <th>314</th>\n",
       "      <td>795.9675</td>\n",
       "      <td>0.0</td>\n",
       "    </tr>\n",
       "    <tr>\n",
       "      <th>315</th>\n",
       "      <td>797.2625</td>\n",
       "      <td>0.0</td>\n",
       "    </tr>\n",
       "    <tr>\n",
       "      <th>316</th>\n",
       "      <td>798.5575</td>\n",
       "      <td>0.0</td>\n",
       "    </tr>\n",
       "    <tr>\n",
       "      <th>317</th>\n",
       "      <td>799.8529</td>\n",
       "      <td>0.0</td>\n",
       "    </tr>\n",
       "  </tbody>\n",
       "</table>\n",
       "<p>318 rows × 2 columns</p>\n",
       "</div>"
      ],
      "text/plain": [
       "    wavelength  intensity\n",
       "0     399.8645        0.0\n",
       "1     401.0927        0.0\n",
       "2     402.3212        0.0\n",
       "3     403.5499        0.0\n",
       "4     404.7787        0.0\n",
       "..         ...        ...\n",
       "313   794.6728        0.0\n",
       "314   795.9675        0.0\n",
       "315   797.2625        0.0\n",
       "316   798.5575        0.0\n",
       "317   799.8529        0.0\n",
       "\n",
       "[318 rows x 2 columns]"
      ]
     },
     "execution_count": 120,
     "metadata": {},
     "output_type": "execute_result"
    }
   ],
   "source": [
    "scaled_emission_spectra_test"
   ]
  },
  {
   "cell_type": "markdown",
   "metadata": {},
   "source": [
    "##### Now for the whole X, built from intensity columns for each fluorophore constructed as above."
   ]
  },
  {
   "cell_type": "code",
   "execution_count": 210,
   "metadata": {},
   "outputs": [],
   "source": [
    "i = 0"
   ]
  },
  {
   "cell_type": "code",
   "execution_count": 211,
   "metadata": {},
   "outputs": [],
   "source": [
    "import os"
   ]
  },
  {
   "cell_type": "code",
   "execution_count": 212,
   "metadata": {},
   "outputs": [
    {
     "data": {
      "text/plain": [
       "['Untitled.ipynb', '.ipynb_checkpoints']"
      ]
     },
     "execution_count": 212,
     "metadata": {},
     "output_type": "execute_result"
    }
   ],
   "source": [
    "os.listdir()"
   ]
  },
  {
   "cell_type": "code",
   "execution_count": 43,
   "metadata": {},
   "outputs": [],
   "source": [
    "path = (spectral_library_path + str(spectral_library[i]) + \".csv\")\n",
    "\n",
    "spectra = read_fit_spectra(spectra_path = path,\n",
    "                           wavelengths = wavelengths,\n",
    "                           plot = False,\n",
    "                           spectra_noise_threshold = 0.001)"
   ]
  },
  {
   "cell_type": "code",
   "execution_count": 47,
   "metadata": {},
   "outputs": [
    {
     "data": {
      "text/plain": [
       "list"
      ]
     },
     "execution_count": 47,
     "metadata": {},
     "output_type": "execute_result"
    }
   ],
   "source": [
    "type(wavelengths)"
   ]
  },
  {
   "cell_type": "code",
   "execution_count": 48,
   "metadata": {},
   "outputs": [
    {
     "data": {
      "text/plain": [
       "float"
      ]
     },
     "execution_count": 48,
     "metadata": {},
     "output_type": "execute_result"
    }
   ],
   "source": [
    "type(0.01)"
   ]
  },
  {
   "cell_type": "code",
   "execution_count": 46,
   "metadata": {},
   "outputs": [
    {
     "data": {
      "text/plain": [
       "['399.8645',\n",
       " '401.0927',\n",
       " '402.3212',\n",
       " '403.5499',\n",
       " '404.7787',\n",
       " '406.0079',\n",
       " '407.2372',\n",
       " '408.4667',\n",
       " '409.6964',\n",
       " '410.9263',\n",
       " '412.1565',\n",
       " '413.3869',\n",
       " '414.6175',\n",
       " '415.8483',\n",
       " '417.0793',\n",
       " '418.3105',\n",
       " '419.5419',\n",
       " '420.7736',\n",
       " '422.0054',\n",
       " '423.2375',\n",
       " '424.4698',\n",
       " '425.7023',\n",
       " '426.935',\n",
       " '428.1679',\n",
       " '429.401',\n",
       " '430.6343',\n",
       " '431.8679',\n",
       " '433.1017',\n",
       " '434.3357',\n",
       " '435.5699',\n",
       " '436.8043',\n",
       " '438.0389',\n",
       " '439.2737',\n",
       " '440.5087',\n",
       " '441.744',\n",
       " '442.9795',\n",
       " '444.2151',\n",
       " '445.451',\n",
       " '446.6871',\n",
       " '447.9235',\n",
       " '449.16',\n",
       " '450.3967',\n",
       " '451.6337',\n",
       " '452.8708',\n",
       " '454.1082',\n",
       " '455.3458',\n",
       " '456.5836',\n",
       " '457.8216',\n",
       " '459.0598',\n",
       " '460.2983',\n",
       " '461.5369',\n",
       " '462.7758',\n",
       " '464.0149',\n",
       " '465.2542',\n",
       " '466.4937',\n",
       " '467.7334',\n",
       " '468.9733',\n",
       " '470.2134',\n",
       " '471.4538',\n",
       " '472.6943',\n",
       " '473.9351',\n",
       " '475.1761',\n",
       " '476.4173',\n",
       " '477.6587',\n",
       " '478.9003',\n",
       " '480.1422',\n",
       " '481.3842',\n",
       " '482.6265',\n",
       " '483.869',\n",
       " '485.1116',\n",
       " '486.3546',\n",
       " '487.5977',\n",
       " '488.841',\n",
       " '490.0845',\n",
       " '491.3282',\n",
       " '492.5722',\n",
       " '493.8164',\n",
       " '495.0608',\n",
       " '496.3054',\n",
       " '497.5502',\n",
       " '498.7952',\n",
       " '500.0404',\n",
       " '501.2859',\n",
       " '502.5315',\n",
       " '503.7774',\n",
       " '505.0235',\n",
       " '506.2698',\n",
       " '507.5163',\n",
       " '508.763',\n",
       " '510.0099',\n",
       " '511.2571',\n",
       " '512.5044',\n",
       " '513.752',\n",
       " '514.9998',\n",
       " '516.2477',\n",
       " '517.496',\n",
       " '518.7444',\n",
       " '519.993',\n",
       " '521.2418',\n",
       " '522.4908',\n",
       " '523.7402',\n",
       " '524.9896',\n",
       " '526.2394',\n",
       " '527.4893',\n",
       " '528.7394',\n",
       " '529.9897',\n",
       " '531.2402',\n",
       " '532.491',\n",
       " '533.7419',\n",
       " '534.9932',\n",
       " '536.2445',\n",
       " '537.4961',\n",
       " '538.7479',\n",
       " '539.9999',\n",
       " '541.2522',\n",
       " '542.5046',\n",
       " '543.7573',\n",
       " '545.0102',\n",
       " '546.2633',\n",
       " '547.5166',\n",
       " '548.7701',\n",
       " '550.0238',\n",
       " '551.2777',\n",
       " '552.5319',\n",
       " '553.7863',\n",
       " '555.0408',\n",
       " '556.2956',\n",
       " '557.5506',\n",
       " '558.8058',\n",
       " '560.0613',\n",
       " '561.3169',\n",
       " '562.5728',\n",
       " '563.8288',\n",
       " '565.0851',\n",
       " '566.3416',\n",
       " '567.5983',\n",
       " '568.8552',\n",
       " '570.1123',\n",
       " '571.3696',\n",
       " '572.6272',\n",
       " '573.8849',\n",
       " '575.1429',\n",
       " '576.4011',\n",
       " '577.6595',\n",
       " '578.9181',\n",
       " '580.1769',\n",
       " '581.4359',\n",
       " '582.6952',\n",
       " '583.9547',\n",
       " '585.2143',\n",
       " '586.4742',\n",
       " '587.7343',\n",
       " '588.9946',\n",
       " '590.2551',\n",
       " '591.5159',\n",
       " '592.7768',\n",
       " '594.038',\n",
       " '595.2993',\n",
       " '596.5609',\n",
       " '597.8227',\n",
       " '599.0847',\n",
       " '600.3469',\n",
       " '601.6094',\n",
       " '602.8719',\n",
       " '604.1348',\n",
       " '605.3979',\n",
       " '606.6612',\n",
       " '607.9247',\n",
       " '609.1884',\n",
       " '610.4523',\n",
       " '611.7164',\n",
       " '612.9808',\n",
       " '614.2453',\n",
       " '615.5101',\n",
       " '616.775',\n",
       " '618.0403',\n",
       " '619.3057',\n",
       " '620.5713',\n",
       " '621.8371',\n",
       " '623.1031',\n",
       " '624.3694',\n",
       " '625.6359',\n",
       " '626.9025',\n",
       " '628.1694',\n",
       " '629.4365',\n",
       " '630.7039',\n",
       " '631.9713',\n",
       " '633.2391',\n",
       " '634.507',\n",
       " '635.7752',\n",
       " '637.0436',\n",
       " '638.3121',\n",
       " '639.5809',\n",
       " '640.85',\n",
       " '642.1192',\n",
       " '643.3886',\n",
       " '644.6583',\n",
       " '645.9282',\n",
       " '647.1982',\n",
       " '648.4685',\n",
       " '649.739',\n",
       " '651.0097',\n",
       " '652.2806',\n",
       " '653.5518',\n",
       " '654.8231',\n",
       " '656.0947',\n",
       " '657.3665',\n",
       " '658.6384',\n",
       " '659.9106',\n",
       " '661.183',\n",
       " '662.4557',\n",
       " '663.7285',\n",
       " '665.0015',\n",
       " '666.2748',\n",
       " '667.5482',\n",
       " '668.8219',\n",
       " '670.0958',\n",
       " '671.3699',\n",
       " '672.6443',\n",
       " '673.9188',\n",
       " '675.1935',\n",
       " '676.4685',\n",
       " '677.7437',\n",
       " '679.019',\n",
       " '680.2947',\n",
       " '681.5704',\n",
       " '682.8465',\n",
       " '684.1227',\n",
       " '685.3992',\n",
       " '686.6758',\n",
       " '687.9526',\n",
       " '689.2297',\n",
       " '690.5071',\n",
       " '691.7845',\n",
       " '693.0623',\n",
       " '694.3402',\n",
       " '695.6183',\n",
       " '696.8967',\n",
       " '698.1753',\n",
       " '699.454',\n",
       " '700.733',\n",
       " '702.0122',\n",
       " '703.2916',\n",
       " '704.5713',\n",
       " '705.8511',\n",
       " '707.1311',\n",
       " '708.4114',\n",
       " '709.6919',\n",
       " '710.9726',\n",
       " '712.2535',\n",
       " '713.5346',\n",
       " '714.8159',\n",
       " '716.0974',\n",
       " '717.3793',\n",
       " '718.6611',\n",
       " '719.9434',\n",
       " '721.2257',\n",
       " '722.5084',\n",
       " '723.7911',\n",
       " '725.0742',\n",
       " '726.3574',\n",
       " '727.6409',\n",
       " '728.9246',\n",
       " '730.2084',\n",
       " '731.4925',\n",
       " '732.7768',\n",
       " '734.0613',\n",
       " '735.346',\n",
       " '736.631',\n",
       " '737.9161',\n",
       " '739.2014',\n",
       " '740.4871',\n",
       " '741.7728',\n",
       " '743.0588',\n",
       " '744.345',\n",
       " '745.6315',\n",
       " '746.9181',\n",
       " '748.205',\n",
       " '749.4919',\n",
       " '750.7792',\n",
       " '752.0667',\n",
       " '753.3544',\n",
       " '754.6423',\n",
       " '755.9304',\n",
       " '757.2188',\n",
       " '758.5073',\n",
       " '759.7961',\n",
       " '761.0851',\n",
       " '762.3743',\n",
       " '763.6636',\n",
       " '764.9532',\n",
       " '766.243',\n",
       " '767.5331',\n",
       " '768.8234',\n",
       " '770.1138',\n",
       " '771.4045',\n",
       " '772.6953',\n",
       " '773.9865',\n",
       " '775.2777',\n",
       " '776.5692',\n",
       " '777.861',\n",
       " '779.153',\n",
       " '780.4451',\n",
       " '781.7374',\n",
       " '783.03',\n",
       " '784.3228',\n",
       " '785.6158',\n",
       " '786.9091',\n",
       " '788.2025',\n",
       " '789.4961',\n",
       " '790.7899',\n",
       " '792.084',\n",
       " '793.3783',\n",
       " '794.6728',\n",
       " '795.9675',\n",
       " '797.2625',\n",
       " '798.5575',\n",
       " '799.8529']"
      ]
     },
     "execution_count": 46,
     "metadata": {},
     "output_type": "execute_result"
    }
   ],
   "source": [
    "wavelengths"
   ]
  },
  {
   "cell_type": "code",
   "execution_count": 44,
   "metadata": {},
   "outputs": [
    {
     "data": {
      "text/plain": [
       "pandas.core.frame.DataFrame"
      ]
     },
     "execution_count": 44,
     "metadata": {},
     "output_type": "execute_result"
    }
   ],
   "source": [
    "type(spectra)"
   ]
  },
  {
   "cell_type": "code",
   "execution_count": 45,
   "metadata": {},
   "outputs": [
    {
     "data": {
      "text/html": [
       "<div>\n",
       "<style scoped>\n",
       "    .dataframe tbody tr th:only-of-type {\n",
       "        vertical-align: middle;\n",
       "    }\n",
       "\n",
       "    .dataframe tbody tr th {\n",
       "        vertical-align: top;\n",
       "    }\n",
       "\n",
       "    .dataframe thead th {\n",
       "        text-align: right;\n",
       "    }\n",
       "</style>\n",
       "<table border=\"1\" class=\"dataframe\">\n",
       "  <thead>\n",
       "    <tr style=\"text-align: right;\">\n",
       "      <th></th>\n",
       "      <th>wavelength</th>\n",
       "      <th>intensity</th>\n",
       "    </tr>\n",
       "  </thead>\n",
       "  <tbody>\n",
       "    <tr>\n",
       "      <th>0</th>\n",
       "      <td>399.8645</td>\n",
       "      <td>0.001076</td>\n",
       "    </tr>\n",
       "    <tr>\n",
       "      <th>1</th>\n",
       "      <td>401.0927</td>\n",
       "      <td>0.001076</td>\n",
       "    </tr>\n",
       "    <tr>\n",
       "      <th>2</th>\n",
       "      <td>402.3212</td>\n",
       "      <td>0.001076</td>\n",
       "    </tr>\n",
       "    <tr>\n",
       "      <th>3</th>\n",
       "      <td>403.5499</td>\n",
       "      <td>0.001076</td>\n",
       "    </tr>\n",
       "    <tr>\n",
       "      <th>4</th>\n",
       "      <td>404.7787</td>\n",
       "      <td>0.001076</td>\n",
       "    </tr>\n",
       "    <tr>\n",
       "      <th>...</th>\n",
       "      <td>...</td>\n",
       "      <td>...</td>\n",
       "    </tr>\n",
       "    <tr>\n",
       "      <th>313</th>\n",
       "      <td>794.6728</td>\n",
       "      <td>0.001076</td>\n",
       "    </tr>\n",
       "    <tr>\n",
       "      <th>314</th>\n",
       "      <td>795.9675</td>\n",
       "      <td>0.001076</td>\n",
       "    </tr>\n",
       "    <tr>\n",
       "      <th>315</th>\n",
       "      <td>797.2625</td>\n",
       "      <td>0.001076</td>\n",
       "    </tr>\n",
       "    <tr>\n",
       "      <th>316</th>\n",
       "      <td>798.5575</td>\n",
       "      <td>0.001076</td>\n",
       "    </tr>\n",
       "    <tr>\n",
       "      <th>317</th>\n",
       "      <td>799.8529</td>\n",
       "      <td>0.001076</td>\n",
       "    </tr>\n",
       "  </tbody>\n",
       "</table>\n",
       "<p>318 rows × 2 columns</p>\n",
       "</div>"
      ],
      "text/plain": [
       "    wavelength  intensity\n",
       "0     399.8645   0.001076\n",
       "1     401.0927   0.001076\n",
       "2     402.3212   0.001076\n",
       "3     403.5499   0.001076\n",
       "4     404.7787   0.001076\n",
       "..         ...        ...\n",
       "313   794.6728   0.001076\n",
       "314   795.9675   0.001076\n",
       "315   797.2625   0.001076\n",
       "316   798.5575   0.001076\n",
       "317   799.8529   0.001076\n",
       "\n",
       "[318 rows x 2 columns]"
      ]
     },
     "execution_count": 45,
     "metadata": {},
     "output_type": "execute_result"
    }
   ],
   "source": [
    "spectra"
   ]
  },
  {
   "cell_type": "code",
   "execution_count": 214,
   "metadata": {},
   "outputs": [],
   "source": [
    "intercept = 1"
   ]
  },
  {
   "cell_type": "code",
   "execution_count": 215,
   "metadata": {},
   "outputs": [
    {
     "data": {
      "text/plain": [
       "0"
      ]
     },
     "execution_count": 215,
     "metadata": {},
     "output_type": "execute_result"
    }
   ],
   "source": [
    "i"
   ]
  },
  {
   "cell_type": "code",
   "execution_count": 216,
   "metadata": {},
   "outputs": [
    {
     "data": {
      "text/plain": [
       "1"
      ]
     },
     "execution_count": 216,
     "metadata": {},
     "output_type": "execute_result"
    }
   ],
   "source": [
    "intercept"
   ]
  },
  {
   "cell_type": "code",
   "execution_count": null,
   "metadata": {},
   "outputs": [],
   "source": []
  },
  {
   "cell_type": "code",
   "execution_count": 217,
   "metadata": {},
   "outputs": [
    {
     "data": {
      "text/plain": [
       "0      0.0\n",
       "1      0.0\n",
       "2      0.0\n",
       "3      0.0\n",
       "4      0.0\n",
       "      ... \n",
       "313    0.0\n",
       "314    0.0\n",
       "315    0.0\n",
       "316    0.0\n",
       "317    0.0\n",
       "Name: intensity, Length: 318, dtype: float64"
      ]
     },
     "execution_count": 217,
     "metadata": {},
     "output_type": "execute_result"
    }
   ],
   "source": [
    "spectra['intensity']"
   ]
  },
  {
   "cell_type": "code",
   "execution_count": 222,
   "metadata": {},
   "outputs": [],
   "source": [
    "if(i==0 and intercept==1):\n",
    "    intercept_vector = [1] * len(wavelengths)\n",
    "    mm = np.c_[(intercept_vector, np.asarray(spectra['intensity']))] # https://stackoverflow.com/questions/43961585/cbind-r-function-equivalent-in-numpy"
   ]
  },
  {
   "cell_type": "code",
   "execution_count": 205,
   "metadata": {},
   "outputs": [],
   "source": [
    "intercept = 0"
   ]
  },
  {
   "cell_type": "code",
   "execution_count": 206,
   "metadata": {},
   "outputs": [],
   "source": [
    "if(i==0 and intercept==0):\n",
    "    mm = np.array(spectra['intensity'])"
   ]
  },
  {
   "cell_type": "code",
   "execution_count": 224,
   "metadata": {},
   "outputs": [
    {
     "data": {
      "text/plain": [
       "(318, 2)"
      ]
     },
     "execution_count": 224,
     "metadata": {},
     "output_type": "execute_result"
    }
   ],
   "source": [
    "mm.shape"
   ]
  },
  {
   "cell_type": "code",
   "execution_count": 225,
   "metadata": {},
   "outputs": [],
   "source": [
    "i = 1"
   ]
  },
  {
   "cell_type": "code",
   "execution_count": 226,
   "metadata": {},
   "outputs": [
    {
     "data": {
      "text/plain": [
       "0      0.0\n",
       "1      0.0\n",
       "2      0.0\n",
       "3      0.0\n",
       "4      0.0\n",
       "      ... \n",
       "313    0.0\n",
       "314    0.0\n",
       "315    0.0\n",
       "316    0.0\n",
       "317    0.0\n",
       "Name: intensity, Length: 318, dtype: float64"
      ]
     },
     "execution_count": 226,
     "metadata": {},
     "output_type": "execute_result"
    }
   ],
   "source": [
    "spectra['intensity']"
   ]
  },
  {
   "cell_type": "code",
   "execution_count": 228,
   "metadata": {},
   "outputs": [],
   "source": [
    "if(i>0):\n",
    "    mm = np.c_[mm, np.array(spectra['intensity'])] # https://stackoverflow.com/questions/43961585/cbind-r-function-equivalent-in-numpy"
   ]
  },
  {
   "cell_type": "code",
   "execution_count": 229,
   "metadata": {},
   "outputs": [],
   "source": [
    "colnames = spectral_library.copy()"
   ]
  },
  {
   "cell_type": "code",
   "execution_count": 230,
   "metadata": {},
   "outputs": [
    {
     "data": {
      "text/plain": [
       "['DsRed', 'ZsYellow', 'Chl', 'Diffraction']"
      ]
     },
     "execution_count": 230,
     "metadata": {},
     "output_type": "execute_result"
    }
   ],
   "source": [
    "colnames"
   ]
  },
  {
   "cell_type": "code",
   "execution_count": 231,
   "metadata": {},
   "outputs": [
    {
     "data": {
      "text/plain": [
       "['DsRed', 'ZsYellow', 'Chl', 'Diffraction']"
      ]
     },
     "execution_count": 231,
     "metadata": {},
     "output_type": "execute_result"
    }
   ],
   "source": [
    "spectral_library"
   ]
  },
  {
   "cell_type": "markdown",
   "metadata": {},
   "source": [
    "Did some reading and found out numpy array columns cannot be named unless you do something fancy by creating new class etc"
   ]
  },
  {
   "cell_type": "markdown",
   "metadata": {},
   "source": [
    "Moving on, let's subset X to only desired wavelengths."
   ]
  },
  {
   "cell_type": "code",
   "execution_count": 232,
   "metadata": {},
   "outputs": [],
   "source": [
    "min_desired_wavelength = 545\n",
    "max_desired_wavelength = 722"
   ]
  },
  {
   "cell_type": "code",
   "execution_count": 233,
   "metadata": {},
   "outputs": [],
   "source": [
    "wavelengths = np.asarray(wavelengths)"
   ]
  },
  {
   "cell_type": "code",
   "execution_count": 234,
   "metadata": {},
   "outputs": [],
   "source": [
    "# https://stackoverflow.com/questions/13869173/numpy-find-index-of-the-elements-within-range\n",
    "wavelength_indices_desired = np.where(np.logical_and(wavelengths.astype(float)>=min_desired_wavelength,\n",
    "                                                     wavelengths.astype(float)<=max_desired_wavelength))"
   ]
  },
  {
   "cell_type": "code",
   "execution_count": 235,
   "metadata": {},
   "outputs": [
    {
     "data": {
      "text/plain": [
       "(318, 3)"
      ]
     },
     "execution_count": 235,
     "metadata": {},
     "output_type": "execute_result"
    }
   ],
   "source": [
    "mm.shape"
   ]
  },
  {
   "cell_type": "code",
   "execution_count": 238,
   "metadata": {},
   "outputs": [
    {
     "data": {
      "text/plain": [
       "(1, 140, 3)"
      ]
     },
     "execution_count": 238,
     "metadata": {},
     "output_type": "execute_result"
    }
   ],
   "source": [
    "mm[wavelength_indices_desired,].shape"
   ]
  },
  {
   "cell_type": "code",
   "execution_count": null,
   "metadata": {},
   "outputs": [],
   "source": []
  },
  {
   "cell_type": "code",
   "execution_count": null,
   "metadata": {},
   "outputs": [],
   "source": [
    "mm2 = mm[(mm[\"wavelength\"] >= m 2) | (mm[\"Pclass\"] == 3)]"
   ]
  },
  {
   "cell_type": "markdown",
   "metadata": {},
   "source": [
    "##### Pack it into a function that loops over everything in the fluorophore library"
   ]
  },
  {
   "cell_type": "code",
   "execution_count": 254,
   "metadata": {},
   "outputs": [],
   "source": [
    "def build_X(fluorophore_ID_vector, intercept, wavelengths,\n",
    "            min_desired_wavelength, max_desired_wavelength):  \n",
    "    \n",
    "    for i in range(0, (len(fluorophore_ID_vector))):\n",
    "        print(i)\n",
    "        path = (spectral_library_path + str(fluorophore_ID_vector[i]) + \".csv\")\n",
    "        if(os.path.isfile(path) == False):\n",
    "            raise NameError(\"Error: Spectrum for \" + fluorophore_ID_vector[i] + \" not found in spectra_library folder\")\n",
    "\n",
    "        spectra = read_fit_spectra(spectra_path = path,\n",
    "                                   wavelengths = wavelengths,\n",
    "                                   plot = False,\n",
    "                                   spectra_noise_threshold = 0.001)\n",
    "\n",
    "        if(i==0 and intercept==1):\n",
    "            intercept_vector = [1] * len(wavelengths)\n",
    "            mm = np.c_[(intercept_vector, np.asarray(spectra['intensity']))] # https://stackoverflow.com/questions/43961585/cbind-r-function-equivalent-in-numpy\n",
    "\n",
    "        if(i==0 and intercept==0):\n",
    "            mm = np.array(spectra['intensity'])\n",
    "\n",
    "        if(i>0):\n",
    "            mm = np.c_[mm, np.array(spectra['intensity'])] # https://stackoverflow.com/questions/43961585/cbind-r-function-equivalent-in-numpy\n",
    "\n",
    "    wavelengths = np.asarray(wavelengths)\n",
    "    \n",
    "    # https://stackoverflow.com/questions/13869173/numpy-find-index-of-the-elements-within-range\n",
    "    wavelength_indices_desired = np.where(np.logical_and(wavelengths.astype(float)>=min_desired_wavelength,\n",
    "                                                         wavelengths.astype(float)<=max_desired_wavelength))\n",
    "\n",
    "    return(mm[wavelength_indices_desired,])"
   ]
  },
  {
   "cell_type": "code",
   "execution_count": 255,
   "metadata": {},
   "outputs": [
    {
     "name": "stdout",
     "output_type": "stream",
     "text": [
      "0\n",
      "1\n"
     ]
    },
    {
     "ename": "ValueError",
     "evalue": "arrays must all be same length",
     "output_type": "error",
     "traceback": [
      "\u001b[0;31m---------------------------------------------------------------------------\u001b[0m",
      "\u001b[0;31mValueError\u001b[0m                                Traceback (most recent call last)",
      "\u001b[0;32m<ipython-input-255-31c82f5a6861>\u001b[0m in \u001b[0;36m<module>\u001b[0;34m\u001b[0m\n\u001b[1;32m      3\u001b[0m         \u001b[0mwavelengths\u001b[0m \u001b[0;34m=\u001b[0m \u001b[0mwavelengths\u001b[0m\u001b[0;34m,\u001b[0m\u001b[0;34m\u001b[0m\u001b[0;34m\u001b[0m\u001b[0m\n\u001b[1;32m      4\u001b[0m         \u001b[0mmin_desired_wavelength\u001b[0m \u001b[0;34m=\u001b[0m \u001b[0;36m545\u001b[0m\u001b[0;34m,\u001b[0m\u001b[0;34m\u001b[0m\u001b[0;34m\u001b[0m\u001b[0m\n\u001b[0;32m----> 5\u001b[0;31m         max_desired_wavelength = 722)\n\u001b[0m",
      "\u001b[0;32m<ipython-input-254-02a804054599>\u001b[0m in \u001b[0;36mbuild_X\u001b[0;34m(fluorophore_ID_vector, intercept, wavelengths, min_desired_wavelength, max_desired_wavelength)\u001b[0m\n\u001b[1;32m     11\u001b[0m                                    \u001b[0mwavelengths\u001b[0m \u001b[0;34m=\u001b[0m \u001b[0mwavelengths\u001b[0m\u001b[0;34m,\u001b[0m\u001b[0;34m\u001b[0m\u001b[0;34m\u001b[0m\u001b[0m\n\u001b[1;32m     12\u001b[0m                                    \u001b[0mplot\u001b[0m \u001b[0;34m=\u001b[0m \u001b[0;32mFalse\u001b[0m\u001b[0;34m,\u001b[0m\u001b[0;34m\u001b[0m\u001b[0;34m\u001b[0m\u001b[0m\n\u001b[0;32m---> 13\u001b[0;31m                                    spectra_noise_threshold = 0.001)\n\u001b[0m\u001b[1;32m     14\u001b[0m \u001b[0;34m\u001b[0m\u001b[0m\n\u001b[1;32m     15\u001b[0m         \u001b[0;32mif\u001b[0m\u001b[0;34m(\u001b[0m\u001b[0mi\u001b[0m\u001b[0;34m==\u001b[0m\u001b[0;36m0\u001b[0m \u001b[0;32mand\u001b[0m \u001b[0mintercept\u001b[0m\u001b[0;34m==\u001b[0m\u001b[0;36m1\u001b[0m\u001b[0;34m)\u001b[0m\u001b[0;34m:\u001b[0m\u001b[0;34m\u001b[0m\u001b[0;34m\u001b[0m\u001b[0m\n",
      "\u001b[0;32m<ipython-input-118-b24293721b99>\u001b[0m in \u001b[0;36mread_fit_spectra\u001b[0;34m(spectra_path, wavelengths, plot, spectra_noise_threshold)\u001b[0m\n\u001b[1;32m     25\u001b[0m     \u001b[0;31m# Scale\u001b[0m\u001b[0;34m\u001b[0m\u001b[0;34m\u001b[0m\u001b[0;34m\u001b[0m\u001b[0m\n\u001b[1;32m     26\u001b[0m     \u001b[0mscaled_emission_spectra\u001b[0m \u001b[0;34m=\u001b[0m \u001b[0;34m{\u001b[0m\u001b[0;34m'wavelength'\u001b[0m\u001b[0;34m:\u001b[0m \u001b[0mwavelengths\u001b[0m\u001b[0;34m,\u001b[0m \u001b[0;34m'intensity'\u001b[0m\u001b[0;34m:\u001b[0m \u001b[0mpredictions\u001b[0m\u001b[0;34m}\u001b[0m\u001b[0;34m\u001b[0m\u001b[0;34m\u001b[0m\u001b[0m\n\u001b[0;32m---> 27\u001b[0;31m     \u001b[0mscaled_emission_spectra\u001b[0m \u001b[0;34m=\u001b[0m \u001b[0mpd\u001b[0m\u001b[0;34m.\u001b[0m\u001b[0mDataFrame\u001b[0m\u001b[0;34m(\u001b[0m\u001b[0mscaled_emission_spectra\u001b[0m\u001b[0;34m)\u001b[0m\u001b[0;34m\u001b[0m\u001b[0;34m\u001b[0m\u001b[0m\n\u001b[0m\u001b[1;32m     28\u001b[0m \u001b[0;34m\u001b[0m\u001b[0m\n\u001b[1;32m     29\u001b[0m     \u001b[0;31m# Denoise\u001b[0m\u001b[0;34m\u001b[0m\u001b[0;34m\u001b[0m\u001b[0;34m\u001b[0m\u001b[0m\n",
      "\u001b[0;32m/scratch2/NSF_GWAS/anaconda3/lib/python3.7/site-packages/pandas/core/frame.py\u001b[0m in \u001b[0;36m__init__\u001b[0;34m(self, data, index, columns, dtype, copy)\u001b[0m\n\u001b[1;32m    466\u001b[0m \u001b[0;34m\u001b[0m\u001b[0m\n\u001b[1;32m    467\u001b[0m         \u001b[0;32melif\u001b[0m \u001b[0misinstance\u001b[0m\u001b[0;34m(\u001b[0m\u001b[0mdata\u001b[0m\u001b[0;34m,\u001b[0m \u001b[0mdict\u001b[0m\u001b[0;34m)\u001b[0m\u001b[0;34m:\u001b[0m\u001b[0;34m\u001b[0m\u001b[0;34m\u001b[0m\u001b[0m\n\u001b[0;32m--> 468\u001b[0;31m             \u001b[0mmgr\u001b[0m \u001b[0;34m=\u001b[0m \u001b[0minit_dict\u001b[0m\u001b[0;34m(\u001b[0m\u001b[0mdata\u001b[0m\u001b[0;34m,\u001b[0m \u001b[0mindex\u001b[0m\u001b[0;34m,\u001b[0m \u001b[0mcolumns\u001b[0m\u001b[0;34m,\u001b[0m \u001b[0mdtype\u001b[0m\u001b[0;34m=\u001b[0m\u001b[0mdtype\u001b[0m\u001b[0;34m)\u001b[0m\u001b[0;34m\u001b[0m\u001b[0;34m\u001b[0m\u001b[0m\n\u001b[0m\u001b[1;32m    469\u001b[0m         \u001b[0;32melif\u001b[0m \u001b[0misinstance\u001b[0m\u001b[0;34m(\u001b[0m\u001b[0mdata\u001b[0m\u001b[0;34m,\u001b[0m \u001b[0mma\u001b[0m\u001b[0;34m.\u001b[0m\u001b[0mMaskedArray\u001b[0m\u001b[0;34m)\u001b[0m\u001b[0;34m:\u001b[0m\u001b[0;34m\u001b[0m\u001b[0;34m\u001b[0m\u001b[0m\n\u001b[1;32m    470\u001b[0m             \u001b[0;32mimport\u001b[0m \u001b[0mnumpy\u001b[0m\u001b[0;34m.\u001b[0m\u001b[0mma\u001b[0m\u001b[0;34m.\u001b[0m\u001b[0mmrecords\u001b[0m \u001b[0;32mas\u001b[0m \u001b[0mmrecords\u001b[0m\u001b[0;34m\u001b[0m\u001b[0;34m\u001b[0m\u001b[0m\n",
      "\u001b[0;32m/scratch2/NSF_GWAS/anaconda3/lib/python3.7/site-packages/pandas/core/internals/construction.py\u001b[0m in \u001b[0;36minit_dict\u001b[0;34m(data, index, columns, dtype)\u001b[0m\n\u001b[1;32m    281\u001b[0m             \u001b[0marr\u001b[0m \u001b[0;32mif\u001b[0m \u001b[0;32mnot\u001b[0m \u001b[0mis_datetime64tz_dtype\u001b[0m\u001b[0;34m(\u001b[0m\u001b[0marr\u001b[0m\u001b[0;34m)\u001b[0m \u001b[0;32melse\u001b[0m \u001b[0marr\u001b[0m\u001b[0;34m.\u001b[0m\u001b[0mcopy\u001b[0m\u001b[0;34m(\u001b[0m\u001b[0;34m)\u001b[0m \u001b[0;32mfor\u001b[0m \u001b[0marr\u001b[0m \u001b[0;32min\u001b[0m \u001b[0marrays\u001b[0m\u001b[0;34m\u001b[0m\u001b[0;34m\u001b[0m\u001b[0m\n\u001b[1;32m    282\u001b[0m         ]\n\u001b[0;32m--> 283\u001b[0;31m     \u001b[0;32mreturn\u001b[0m \u001b[0marrays_to_mgr\u001b[0m\u001b[0;34m(\u001b[0m\u001b[0marrays\u001b[0m\u001b[0;34m,\u001b[0m \u001b[0mdata_names\u001b[0m\u001b[0;34m,\u001b[0m \u001b[0mindex\u001b[0m\u001b[0;34m,\u001b[0m \u001b[0mcolumns\u001b[0m\u001b[0;34m,\u001b[0m \u001b[0mdtype\u001b[0m\u001b[0;34m=\u001b[0m\u001b[0mdtype\u001b[0m\u001b[0;34m)\u001b[0m\u001b[0;34m\u001b[0m\u001b[0;34m\u001b[0m\u001b[0m\n\u001b[0m\u001b[1;32m    284\u001b[0m \u001b[0;34m\u001b[0m\u001b[0m\n\u001b[1;32m    285\u001b[0m \u001b[0;34m\u001b[0m\u001b[0m\n",
      "\u001b[0;32m/scratch2/NSF_GWAS/anaconda3/lib/python3.7/site-packages/pandas/core/internals/construction.py\u001b[0m in \u001b[0;36marrays_to_mgr\u001b[0;34m(arrays, arr_names, index, columns, dtype, verify_integrity)\u001b[0m\n\u001b[1;32m     76\u001b[0m         \u001b[0;31m# figure out the index, if necessary\u001b[0m\u001b[0;34m\u001b[0m\u001b[0;34m\u001b[0m\u001b[0;34m\u001b[0m\u001b[0m\n\u001b[1;32m     77\u001b[0m         \u001b[0;32mif\u001b[0m \u001b[0mindex\u001b[0m \u001b[0;32mis\u001b[0m \u001b[0;32mNone\u001b[0m\u001b[0;34m:\u001b[0m\u001b[0;34m\u001b[0m\u001b[0;34m\u001b[0m\u001b[0m\n\u001b[0;32m---> 78\u001b[0;31m             \u001b[0mindex\u001b[0m \u001b[0;34m=\u001b[0m \u001b[0mextract_index\u001b[0m\u001b[0;34m(\u001b[0m\u001b[0marrays\u001b[0m\u001b[0;34m)\u001b[0m\u001b[0;34m\u001b[0m\u001b[0;34m\u001b[0m\u001b[0m\n\u001b[0m\u001b[1;32m     79\u001b[0m         \u001b[0;32melse\u001b[0m\u001b[0;34m:\u001b[0m\u001b[0;34m\u001b[0m\u001b[0;34m\u001b[0m\u001b[0m\n\u001b[1;32m     80\u001b[0m             \u001b[0mindex\u001b[0m \u001b[0;34m=\u001b[0m \u001b[0mensure_index\u001b[0m\u001b[0;34m(\u001b[0m\u001b[0mindex\u001b[0m\u001b[0;34m)\u001b[0m\u001b[0;34m\u001b[0m\u001b[0;34m\u001b[0m\u001b[0m\n",
      "\u001b[0;32m/scratch2/NSF_GWAS/anaconda3/lib/python3.7/site-packages/pandas/core/internals/construction.py\u001b[0m in \u001b[0;36mextract_index\u001b[0;34m(data)\u001b[0m\n\u001b[1;32m    395\u001b[0m             \u001b[0mlengths\u001b[0m \u001b[0;34m=\u001b[0m \u001b[0mlist\u001b[0m\u001b[0;34m(\u001b[0m\u001b[0mset\u001b[0m\u001b[0;34m(\u001b[0m\u001b[0mraw_lengths\u001b[0m\u001b[0;34m)\u001b[0m\u001b[0;34m)\u001b[0m\u001b[0;34m\u001b[0m\u001b[0;34m\u001b[0m\u001b[0m\n\u001b[1;32m    396\u001b[0m             \u001b[0;32mif\u001b[0m \u001b[0mlen\u001b[0m\u001b[0;34m(\u001b[0m\u001b[0mlengths\u001b[0m\u001b[0;34m)\u001b[0m \u001b[0;34m>\u001b[0m \u001b[0;36m1\u001b[0m\u001b[0;34m:\u001b[0m\u001b[0;34m\u001b[0m\u001b[0;34m\u001b[0m\u001b[0m\n\u001b[0;32m--> 397\u001b[0;31m                 \u001b[0;32mraise\u001b[0m \u001b[0mValueError\u001b[0m\u001b[0;34m(\u001b[0m\u001b[0;34m\"arrays must all be same length\"\u001b[0m\u001b[0;34m)\u001b[0m\u001b[0;34m\u001b[0m\u001b[0;34m\u001b[0m\u001b[0m\n\u001b[0m\u001b[1;32m    398\u001b[0m \u001b[0;34m\u001b[0m\u001b[0m\n\u001b[1;32m    399\u001b[0m             \u001b[0;32mif\u001b[0m \u001b[0mhave_dicts\u001b[0m\u001b[0;34m:\u001b[0m\u001b[0;34m\u001b[0m\u001b[0;34m\u001b[0m\u001b[0m\n",
      "\u001b[0;31mValueError\u001b[0m: arrays must all be same length"
     ]
    }
   ],
   "source": [
    "build_X(fluorophore_ID_vector = spectral_library,\n",
    "        intercept = 1,\n",
    "        wavelengths = wavelengths,\n",
    "        min_desired_wavelength = 545,\n",
    "        max_desired_wavelength = 722)"
   ]
  },
  {
   "cell_type": "markdown",
   "metadata": {},
   "source": [
    "##### Try again outside of the function..."
   ]
  },
  {
   "cell_type": "code",
   "execution_count": 249,
   "metadata": {},
   "outputs": [],
   "source": [
    "fluorophore_ID_vector = spectral_library"
   ]
  },
  {
   "cell_type": "code",
   "execution_count": 251,
   "metadata": {},
   "outputs": [
    {
     "name": "stdout",
     "output_type": "stream",
     "text": [
      "0\n",
      "1\n",
      "2\n",
      "3\n"
     ]
    }
   ],
   "source": [
    "for i in range(0, (len(fluorophore_ID_vector))):\n",
    "    print(i)\n",
    "    "
   ]
  },
  {
   "cell_type": "code",
   "execution_count": 256,
   "metadata": {},
   "outputs": [],
   "source": [
    "i = 0"
   ]
  },
  {
   "cell_type": "code",
   "execution_count": 258,
   "metadata": {},
   "outputs": [],
   "source": [
    "path = (spectral_library_path + str(fluorophore_ID_vector[i]) + \".csv\")\n",
    "if(os.path.isfile(path) == False):\n",
    "    raise NameError(\"Error: Spectrum for \" + fluorophore_ID_vector[i] + \" not found in spectra_library folder\")\n",
    "\n",
    "spectra = read_fit_spectra(spectra_path = path,\n",
    "                           wavelengths = wavelengths,\n",
    "                           plot = False,\n",
    "                           spectra_noise_threshold = 0.001)"
   ]
  },
  {
   "cell_type": "code",
   "execution_count": 259,
   "metadata": {},
   "outputs": [],
   "source": [
    "if(i==0 and intercept==1):\n",
    "    intercept_vector = [1] * len(wavelengths)\n",
    "    mm = np.c_[(intercept_vector, np.asarray(spectra['intensity']))] # https://stackoverflow.com/questions/43961585/cbind-r-function-equivalent-in-numpy\n",
    "\n",
    "if(i==0 and intercept==0):\n",
    "    mm = np.array(spectra['intensity'])\n",
    "\n",
    "if(i>0):\n",
    "    mm = np.c_[mm, np.array(spectra['intensity'])] # https://stackoverflow.com/questions/43961585/cbind-r-function-equivalent-in-numpy"
   ]
  },
  {
   "cell_type": "code",
   "execution_count": 260,
   "metadata": {},
   "outputs": [],
   "source": [
    "i = 1"
   ]
  },
  {
   "cell_type": "code",
   "execution_count": 261,
   "metadata": {},
   "outputs": [
    {
     "ename": "ValueError",
     "evalue": "arrays must all be same length",
     "output_type": "error",
     "traceback": [
      "\u001b[0;31m---------------------------------------------------------------------------\u001b[0m",
      "\u001b[0;31mValueError\u001b[0m                                Traceback (most recent call last)",
      "\u001b[0;32m<ipython-input-261-86c9ad275f2d>\u001b[0m in \u001b[0;36m<module>\u001b[0;34m\u001b[0m\n\u001b[1;32m      6\u001b[0m                            \u001b[0mwavelengths\u001b[0m \u001b[0;34m=\u001b[0m \u001b[0mwavelengths\u001b[0m\u001b[0;34m,\u001b[0m\u001b[0;34m\u001b[0m\u001b[0;34m\u001b[0m\u001b[0m\n\u001b[1;32m      7\u001b[0m                            \u001b[0mplot\u001b[0m \u001b[0;34m=\u001b[0m \u001b[0;32mFalse\u001b[0m\u001b[0;34m,\u001b[0m\u001b[0;34m\u001b[0m\u001b[0;34m\u001b[0m\u001b[0m\n\u001b[0;32m----> 8\u001b[0;31m                            spectra_noise_threshold = 0.001)\n\u001b[0m",
      "\u001b[0;32m<ipython-input-118-b24293721b99>\u001b[0m in \u001b[0;36mread_fit_spectra\u001b[0;34m(spectra_path, wavelengths, plot, spectra_noise_threshold)\u001b[0m\n\u001b[1;32m     25\u001b[0m     \u001b[0;31m# Scale\u001b[0m\u001b[0;34m\u001b[0m\u001b[0;34m\u001b[0m\u001b[0;34m\u001b[0m\u001b[0m\n\u001b[1;32m     26\u001b[0m     \u001b[0mscaled_emission_spectra\u001b[0m \u001b[0;34m=\u001b[0m \u001b[0;34m{\u001b[0m\u001b[0;34m'wavelength'\u001b[0m\u001b[0;34m:\u001b[0m \u001b[0mwavelengths\u001b[0m\u001b[0;34m,\u001b[0m \u001b[0;34m'intensity'\u001b[0m\u001b[0;34m:\u001b[0m \u001b[0mpredictions\u001b[0m\u001b[0;34m}\u001b[0m\u001b[0;34m\u001b[0m\u001b[0;34m\u001b[0m\u001b[0m\n\u001b[0;32m---> 27\u001b[0;31m     \u001b[0mscaled_emission_spectra\u001b[0m \u001b[0;34m=\u001b[0m \u001b[0mpd\u001b[0m\u001b[0;34m.\u001b[0m\u001b[0mDataFrame\u001b[0m\u001b[0;34m(\u001b[0m\u001b[0mscaled_emission_spectra\u001b[0m\u001b[0;34m)\u001b[0m\u001b[0;34m\u001b[0m\u001b[0;34m\u001b[0m\u001b[0m\n\u001b[0m\u001b[1;32m     28\u001b[0m \u001b[0;34m\u001b[0m\u001b[0m\n\u001b[1;32m     29\u001b[0m     \u001b[0;31m# Denoise\u001b[0m\u001b[0;34m\u001b[0m\u001b[0;34m\u001b[0m\u001b[0;34m\u001b[0m\u001b[0m\n",
      "\u001b[0;32m/scratch2/NSF_GWAS/anaconda3/lib/python3.7/site-packages/pandas/core/frame.py\u001b[0m in \u001b[0;36m__init__\u001b[0;34m(self, data, index, columns, dtype, copy)\u001b[0m\n\u001b[1;32m    466\u001b[0m \u001b[0;34m\u001b[0m\u001b[0m\n\u001b[1;32m    467\u001b[0m         \u001b[0;32melif\u001b[0m \u001b[0misinstance\u001b[0m\u001b[0;34m(\u001b[0m\u001b[0mdata\u001b[0m\u001b[0;34m,\u001b[0m \u001b[0mdict\u001b[0m\u001b[0;34m)\u001b[0m\u001b[0;34m:\u001b[0m\u001b[0;34m\u001b[0m\u001b[0;34m\u001b[0m\u001b[0m\n\u001b[0;32m--> 468\u001b[0;31m             \u001b[0mmgr\u001b[0m \u001b[0;34m=\u001b[0m \u001b[0minit_dict\u001b[0m\u001b[0;34m(\u001b[0m\u001b[0mdata\u001b[0m\u001b[0;34m,\u001b[0m \u001b[0mindex\u001b[0m\u001b[0;34m,\u001b[0m \u001b[0mcolumns\u001b[0m\u001b[0;34m,\u001b[0m \u001b[0mdtype\u001b[0m\u001b[0;34m=\u001b[0m\u001b[0mdtype\u001b[0m\u001b[0;34m)\u001b[0m\u001b[0;34m\u001b[0m\u001b[0;34m\u001b[0m\u001b[0m\n\u001b[0m\u001b[1;32m    469\u001b[0m         \u001b[0;32melif\u001b[0m \u001b[0misinstance\u001b[0m\u001b[0;34m(\u001b[0m\u001b[0mdata\u001b[0m\u001b[0;34m,\u001b[0m \u001b[0mma\u001b[0m\u001b[0;34m.\u001b[0m\u001b[0mMaskedArray\u001b[0m\u001b[0;34m)\u001b[0m\u001b[0;34m:\u001b[0m\u001b[0;34m\u001b[0m\u001b[0;34m\u001b[0m\u001b[0m\n\u001b[1;32m    470\u001b[0m             \u001b[0;32mimport\u001b[0m \u001b[0mnumpy\u001b[0m\u001b[0;34m.\u001b[0m\u001b[0mma\u001b[0m\u001b[0;34m.\u001b[0m\u001b[0mmrecords\u001b[0m \u001b[0;32mas\u001b[0m \u001b[0mmrecords\u001b[0m\u001b[0;34m\u001b[0m\u001b[0;34m\u001b[0m\u001b[0m\n",
      "\u001b[0;32m/scratch2/NSF_GWAS/anaconda3/lib/python3.7/site-packages/pandas/core/internals/construction.py\u001b[0m in \u001b[0;36minit_dict\u001b[0;34m(data, index, columns, dtype)\u001b[0m\n\u001b[1;32m    281\u001b[0m             \u001b[0marr\u001b[0m \u001b[0;32mif\u001b[0m \u001b[0;32mnot\u001b[0m \u001b[0mis_datetime64tz_dtype\u001b[0m\u001b[0;34m(\u001b[0m\u001b[0marr\u001b[0m\u001b[0;34m)\u001b[0m \u001b[0;32melse\u001b[0m \u001b[0marr\u001b[0m\u001b[0;34m.\u001b[0m\u001b[0mcopy\u001b[0m\u001b[0;34m(\u001b[0m\u001b[0;34m)\u001b[0m \u001b[0;32mfor\u001b[0m \u001b[0marr\u001b[0m \u001b[0;32min\u001b[0m \u001b[0marrays\u001b[0m\u001b[0;34m\u001b[0m\u001b[0;34m\u001b[0m\u001b[0m\n\u001b[1;32m    282\u001b[0m         ]\n\u001b[0;32m--> 283\u001b[0;31m     \u001b[0;32mreturn\u001b[0m \u001b[0marrays_to_mgr\u001b[0m\u001b[0;34m(\u001b[0m\u001b[0marrays\u001b[0m\u001b[0;34m,\u001b[0m \u001b[0mdata_names\u001b[0m\u001b[0;34m,\u001b[0m \u001b[0mindex\u001b[0m\u001b[0;34m,\u001b[0m \u001b[0mcolumns\u001b[0m\u001b[0;34m,\u001b[0m \u001b[0mdtype\u001b[0m\u001b[0;34m=\u001b[0m\u001b[0mdtype\u001b[0m\u001b[0;34m)\u001b[0m\u001b[0;34m\u001b[0m\u001b[0;34m\u001b[0m\u001b[0m\n\u001b[0m\u001b[1;32m    284\u001b[0m \u001b[0;34m\u001b[0m\u001b[0m\n\u001b[1;32m    285\u001b[0m \u001b[0;34m\u001b[0m\u001b[0m\n",
      "\u001b[0;32m/scratch2/NSF_GWAS/anaconda3/lib/python3.7/site-packages/pandas/core/internals/construction.py\u001b[0m in \u001b[0;36marrays_to_mgr\u001b[0;34m(arrays, arr_names, index, columns, dtype, verify_integrity)\u001b[0m\n\u001b[1;32m     76\u001b[0m         \u001b[0;31m# figure out the index, if necessary\u001b[0m\u001b[0;34m\u001b[0m\u001b[0;34m\u001b[0m\u001b[0;34m\u001b[0m\u001b[0m\n\u001b[1;32m     77\u001b[0m         \u001b[0;32mif\u001b[0m \u001b[0mindex\u001b[0m \u001b[0;32mis\u001b[0m \u001b[0;32mNone\u001b[0m\u001b[0;34m:\u001b[0m\u001b[0;34m\u001b[0m\u001b[0;34m\u001b[0m\u001b[0m\n\u001b[0;32m---> 78\u001b[0;31m             \u001b[0mindex\u001b[0m \u001b[0;34m=\u001b[0m \u001b[0mextract_index\u001b[0m\u001b[0;34m(\u001b[0m\u001b[0marrays\u001b[0m\u001b[0;34m)\u001b[0m\u001b[0;34m\u001b[0m\u001b[0;34m\u001b[0m\u001b[0m\n\u001b[0m\u001b[1;32m     79\u001b[0m         \u001b[0;32melse\u001b[0m\u001b[0;34m:\u001b[0m\u001b[0;34m\u001b[0m\u001b[0;34m\u001b[0m\u001b[0m\n\u001b[1;32m     80\u001b[0m             \u001b[0mindex\u001b[0m \u001b[0;34m=\u001b[0m \u001b[0mensure_index\u001b[0m\u001b[0;34m(\u001b[0m\u001b[0mindex\u001b[0m\u001b[0;34m)\u001b[0m\u001b[0;34m\u001b[0m\u001b[0;34m\u001b[0m\u001b[0m\n",
      "\u001b[0;32m/scratch2/NSF_GWAS/anaconda3/lib/python3.7/site-packages/pandas/core/internals/construction.py\u001b[0m in \u001b[0;36mextract_index\u001b[0;34m(data)\u001b[0m\n\u001b[1;32m    395\u001b[0m             \u001b[0mlengths\u001b[0m \u001b[0;34m=\u001b[0m \u001b[0mlist\u001b[0m\u001b[0;34m(\u001b[0m\u001b[0mset\u001b[0m\u001b[0;34m(\u001b[0m\u001b[0mraw_lengths\u001b[0m\u001b[0;34m)\u001b[0m\u001b[0;34m)\u001b[0m\u001b[0;34m\u001b[0m\u001b[0;34m\u001b[0m\u001b[0m\n\u001b[1;32m    396\u001b[0m             \u001b[0;32mif\u001b[0m \u001b[0mlen\u001b[0m\u001b[0;34m(\u001b[0m\u001b[0mlengths\u001b[0m\u001b[0;34m)\u001b[0m \u001b[0;34m>\u001b[0m \u001b[0;36m1\u001b[0m\u001b[0;34m:\u001b[0m\u001b[0;34m\u001b[0m\u001b[0;34m\u001b[0m\u001b[0m\n\u001b[0;32m--> 397\u001b[0;31m                 \u001b[0;32mraise\u001b[0m \u001b[0mValueError\u001b[0m\u001b[0;34m(\u001b[0m\u001b[0;34m\"arrays must all be same length\"\u001b[0m\u001b[0;34m)\u001b[0m\u001b[0;34m\u001b[0m\u001b[0;34m\u001b[0m\u001b[0m\n\u001b[0m\u001b[1;32m    398\u001b[0m \u001b[0;34m\u001b[0m\u001b[0m\n\u001b[1;32m    399\u001b[0m             \u001b[0;32mif\u001b[0m \u001b[0mhave_dicts\u001b[0m\u001b[0;34m:\u001b[0m\u001b[0;34m\u001b[0m\u001b[0;34m\u001b[0m\u001b[0m\n",
      "\u001b[0;31mValueError\u001b[0m: arrays must all be same length"
     ]
    }
   ],
   "source": [
    "path = (spectral_library_path + str(fluorophore_ID_vector[i]) + \".csv\")\n",
    "if(os.path.isfile(path) == False):\n",
    "    raise NameError(\"Error: Spectrum for \" + fluorophore_ID_vector[i] + \" not found in spectra_library folder\")\n",
    "\n",
    "spectra = read_fit_spectra(spectra_path = path,\n",
    "                           wavelengths = wavelengths,\n",
    "                           plot = False,\n",
    "                           spectra_noise_threshold = 0.001)"
   ]
  },
  {
   "cell_type": "code",
   "execution_count": null,
   "metadata": {},
   "outputs": [],
   "source": [
    "path = (spectral_library_path + str(fluorophore_ID_vector[i]) + \".csv\")"
   ]
  },
  {
   "cell_type": "code",
   "execution_count": 262,
   "metadata": {},
   "outputs": [
    {
     "data": {
      "text/plain": [
       "'/scratch2/NSF_GWAS/GMOdetectoR/spectra_library/ZsYellow.csv'"
      ]
     },
     "execution_count": 262,
     "metadata": {},
     "output_type": "execute_result"
    }
   ],
   "source": [
    "path"
   ]
  },
  {
   "cell_type": "code",
   "execution_count": 263,
   "metadata": {},
   "outputs": [],
   "source": [
    "if(os.path.isfile(path) == False):\n",
    "    raise NameError(\"Error: Spectrum for \" + fluorophore_ID_vector[i] + \" not found in spectra_library folder\")"
   ]
  },
  {
   "cell_type": "code",
   "execution_count": 265,
   "metadata": {},
   "outputs": [
    {
     "ename": "ValueError",
     "evalue": "arrays must all be same length",
     "output_type": "error",
     "traceback": [
      "\u001b[0;31m---------------------------------------------------------------------------\u001b[0m",
      "\u001b[0;31mValueError\u001b[0m                                Traceback (most recent call last)",
      "\u001b[0;32m<ipython-input-265-756ed2002ca1>\u001b[0m in \u001b[0;36m<module>\u001b[0;34m\u001b[0m\n\u001b[1;32m      2\u001b[0m                            \u001b[0mwavelengths\u001b[0m \u001b[0;34m=\u001b[0m \u001b[0mwavelengths\u001b[0m\u001b[0;34m,\u001b[0m\u001b[0;34m\u001b[0m\u001b[0;34m\u001b[0m\u001b[0m\n\u001b[1;32m      3\u001b[0m                            \u001b[0mplot\u001b[0m \u001b[0;34m=\u001b[0m \u001b[0;32mFalse\u001b[0m\u001b[0;34m,\u001b[0m\u001b[0;34m\u001b[0m\u001b[0;34m\u001b[0m\u001b[0m\n\u001b[0;32m----> 4\u001b[0;31m                            spectra_noise_threshold = 0.001)\n\u001b[0m",
      "\u001b[0;32m<ipython-input-118-b24293721b99>\u001b[0m in \u001b[0;36mread_fit_spectra\u001b[0;34m(spectra_path, wavelengths, plot, spectra_noise_threshold)\u001b[0m\n\u001b[1;32m     25\u001b[0m     \u001b[0;31m# Scale\u001b[0m\u001b[0;34m\u001b[0m\u001b[0;34m\u001b[0m\u001b[0;34m\u001b[0m\u001b[0m\n\u001b[1;32m     26\u001b[0m     \u001b[0mscaled_emission_spectra\u001b[0m \u001b[0;34m=\u001b[0m \u001b[0;34m{\u001b[0m\u001b[0;34m'wavelength'\u001b[0m\u001b[0;34m:\u001b[0m \u001b[0mwavelengths\u001b[0m\u001b[0;34m,\u001b[0m \u001b[0;34m'intensity'\u001b[0m\u001b[0;34m:\u001b[0m \u001b[0mpredictions\u001b[0m\u001b[0;34m}\u001b[0m\u001b[0;34m\u001b[0m\u001b[0;34m\u001b[0m\u001b[0m\n\u001b[0;32m---> 27\u001b[0;31m     \u001b[0mscaled_emission_spectra\u001b[0m \u001b[0;34m=\u001b[0m \u001b[0mpd\u001b[0m\u001b[0;34m.\u001b[0m\u001b[0mDataFrame\u001b[0m\u001b[0;34m(\u001b[0m\u001b[0mscaled_emission_spectra\u001b[0m\u001b[0;34m)\u001b[0m\u001b[0;34m\u001b[0m\u001b[0;34m\u001b[0m\u001b[0m\n\u001b[0m\u001b[1;32m     28\u001b[0m \u001b[0;34m\u001b[0m\u001b[0m\n\u001b[1;32m     29\u001b[0m     \u001b[0;31m# Denoise\u001b[0m\u001b[0;34m\u001b[0m\u001b[0;34m\u001b[0m\u001b[0;34m\u001b[0m\u001b[0m\n",
      "\u001b[0;32m/scratch2/NSF_GWAS/anaconda3/lib/python3.7/site-packages/pandas/core/frame.py\u001b[0m in \u001b[0;36m__init__\u001b[0;34m(self, data, index, columns, dtype, copy)\u001b[0m\n\u001b[1;32m    466\u001b[0m \u001b[0;34m\u001b[0m\u001b[0m\n\u001b[1;32m    467\u001b[0m         \u001b[0;32melif\u001b[0m \u001b[0misinstance\u001b[0m\u001b[0;34m(\u001b[0m\u001b[0mdata\u001b[0m\u001b[0;34m,\u001b[0m \u001b[0mdict\u001b[0m\u001b[0;34m)\u001b[0m\u001b[0;34m:\u001b[0m\u001b[0;34m\u001b[0m\u001b[0;34m\u001b[0m\u001b[0m\n\u001b[0;32m--> 468\u001b[0;31m             \u001b[0mmgr\u001b[0m \u001b[0;34m=\u001b[0m \u001b[0minit_dict\u001b[0m\u001b[0;34m(\u001b[0m\u001b[0mdata\u001b[0m\u001b[0;34m,\u001b[0m \u001b[0mindex\u001b[0m\u001b[0;34m,\u001b[0m \u001b[0mcolumns\u001b[0m\u001b[0;34m,\u001b[0m \u001b[0mdtype\u001b[0m\u001b[0;34m=\u001b[0m\u001b[0mdtype\u001b[0m\u001b[0;34m)\u001b[0m\u001b[0;34m\u001b[0m\u001b[0;34m\u001b[0m\u001b[0m\n\u001b[0m\u001b[1;32m    469\u001b[0m         \u001b[0;32melif\u001b[0m \u001b[0misinstance\u001b[0m\u001b[0;34m(\u001b[0m\u001b[0mdata\u001b[0m\u001b[0;34m,\u001b[0m \u001b[0mma\u001b[0m\u001b[0;34m.\u001b[0m\u001b[0mMaskedArray\u001b[0m\u001b[0;34m)\u001b[0m\u001b[0;34m:\u001b[0m\u001b[0;34m\u001b[0m\u001b[0;34m\u001b[0m\u001b[0m\n\u001b[1;32m    470\u001b[0m             \u001b[0;32mimport\u001b[0m \u001b[0mnumpy\u001b[0m\u001b[0;34m.\u001b[0m\u001b[0mma\u001b[0m\u001b[0;34m.\u001b[0m\u001b[0mmrecords\u001b[0m \u001b[0;32mas\u001b[0m \u001b[0mmrecords\u001b[0m\u001b[0;34m\u001b[0m\u001b[0;34m\u001b[0m\u001b[0m\n",
      "\u001b[0;32m/scratch2/NSF_GWAS/anaconda3/lib/python3.7/site-packages/pandas/core/internals/construction.py\u001b[0m in \u001b[0;36minit_dict\u001b[0;34m(data, index, columns, dtype)\u001b[0m\n\u001b[1;32m    281\u001b[0m             \u001b[0marr\u001b[0m \u001b[0;32mif\u001b[0m \u001b[0;32mnot\u001b[0m \u001b[0mis_datetime64tz_dtype\u001b[0m\u001b[0;34m(\u001b[0m\u001b[0marr\u001b[0m\u001b[0;34m)\u001b[0m \u001b[0;32melse\u001b[0m \u001b[0marr\u001b[0m\u001b[0;34m.\u001b[0m\u001b[0mcopy\u001b[0m\u001b[0;34m(\u001b[0m\u001b[0;34m)\u001b[0m \u001b[0;32mfor\u001b[0m \u001b[0marr\u001b[0m \u001b[0;32min\u001b[0m \u001b[0marrays\u001b[0m\u001b[0;34m\u001b[0m\u001b[0;34m\u001b[0m\u001b[0m\n\u001b[1;32m    282\u001b[0m         ]\n\u001b[0;32m--> 283\u001b[0;31m     \u001b[0;32mreturn\u001b[0m \u001b[0marrays_to_mgr\u001b[0m\u001b[0;34m(\u001b[0m\u001b[0marrays\u001b[0m\u001b[0;34m,\u001b[0m \u001b[0mdata_names\u001b[0m\u001b[0;34m,\u001b[0m \u001b[0mindex\u001b[0m\u001b[0;34m,\u001b[0m \u001b[0mcolumns\u001b[0m\u001b[0;34m,\u001b[0m \u001b[0mdtype\u001b[0m\u001b[0;34m=\u001b[0m\u001b[0mdtype\u001b[0m\u001b[0;34m)\u001b[0m\u001b[0;34m\u001b[0m\u001b[0;34m\u001b[0m\u001b[0m\n\u001b[0m\u001b[1;32m    284\u001b[0m \u001b[0;34m\u001b[0m\u001b[0m\n\u001b[1;32m    285\u001b[0m \u001b[0;34m\u001b[0m\u001b[0m\n",
      "\u001b[0;32m/scratch2/NSF_GWAS/anaconda3/lib/python3.7/site-packages/pandas/core/internals/construction.py\u001b[0m in \u001b[0;36marrays_to_mgr\u001b[0;34m(arrays, arr_names, index, columns, dtype, verify_integrity)\u001b[0m\n\u001b[1;32m     76\u001b[0m         \u001b[0;31m# figure out the index, if necessary\u001b[0m\u001b[0;34m\u001b[0m\u001b[0;34m\u001b[0m\u001b[0;34m\u001b[0m\u001b[0m\n\u001b[1;32m     77\u001b[0m         \u001b[0;32mif\u001b[0m \u001b[0mindex\u001b[0m \u001b[0;32mis\u001b[0m \u001b[0;32mNone\u001b[0m\u001b[0;34m:\u001b[0m\u001b[0;34m\u001b[0m\u001b[0;34m\u001b[0m\u001b[0m\n\u001b[0;32m---> 78\u001b[0;31m             \u001b[0mindex\u001b[0m \u001b[0;34m=\u001b[0m \u001b[0mextract_index\u001b[0m\u001b[0;34m(\u001b[0m\u001b[0marrays\u001b[0m\u001b[0;34m)\u001b[0m\u001b[0;34m\u001b[0m\u001b[0;34m\u001b[0m\u001b[0m\n\u001b[0m\u001b[1;32m     79\u001b[0m         \u001b[0;32melse\u001b[0m\u001b[0;34m:\u001b[0m\u001b[0;34m\u001b[0m\u001b[0;34m\u001b[0m\u001b[0m\n\u001b[1;32m     80\u001b[0m             \u001b[0mindex\u001b[0m \u001b[0;34m=\u001b[0m \u001b[0mensure_index\u001b[0m\u001b[0;34m(\u001b[0m\u001b[0mindex\u001b[0m\u001b[0;34m)\u001b[0m\u001b[0;34m\u001b[0m\u001b[0;34m\u001b[0m\u001b[0m\n",
      "\u001b[0;32m/scratch2/NSF_GWAS/anaconda3/lib/python3.7/site-packages/pandas/core/internals/construction.py\u001b[0m in \u001b[0;36mextract_index\u001b[0;34m(data)\u001b[0m\n\u001b[1;32m    395\u001b[0m             \u001b[0mlengths\u001b[0m \u001b[0;34m=\u001b[0m \u001b[0mlist\u001b[0m\u001b[0;34m(\u001b[0m\u001b[0mset\u001b[0m\u001b[0;34m(\u001b[0m\u001b[0mraw_lengths\u001b[0m\u001b[0;34m)\u001b[0m\u001b[0;34m)\u001b[0m\u001b[0;34m\u001b[0m\u001b[0;34m\u001b[0m\u001b[0m\n\u001b[1;32m    396\u001b[0m             \u001b[0;32mif\u001b[0m \u001b[0mlen\u001b[0m\u001b[0;34m(\u001b[0m\u001b[0mlengths\u001b[0m\u001b[0;34m)\u001b[0m \u001b[0;34m>\u001b[0m \u001b[0;36m1\u001b[0m\u001b[0;34m:\u001b[0m\u001b[0;34m\u001b[0m\u001b[0;34m\u001b[0m\u001b[0m\n\u001b[0;32m--> 397\u001b[0;31m                 \u001b[0;32mraise\u001b[0m \u001b[0mValueError\u001b[0m\u001b[0;34m(\u001b[0m\u001b[0;34m\"arrays must all be same length\"\u001b[0m\u001b[0;34m)\u001b[0m\u001b[0;34m\u001b[0m\u001b[0;34m\u001b[0m\u001b[0m\n\u001b[0m\u001b[1;32m    398\u001b[0m \u001b[0;34m\u001b[0m\u001b[0m\n\u001b[1;32m    399\u001b[0m             \u001b[0;32mif\u001b[0m \u001b[0mhave_dicts\u001b[0m\u001b[0;34m:\u001b[0m\u001b[0;34m\u001b[0m\u001b[0;34m\u001b[0m\u001b[0m\n",
      "\u001b[0;31mValueError\u001b[0m: arrays must all be same length"
     ]
    }
   ],
   "source": [
    "spectra = read_fit_spectra(spectra_path = path,\n",
    "                           wavelengths = wavelengths,\n",
    "                           plot = False,\n",
    "                           spectra_noise_threshold = 0.001)"
   ]
  },
  {
   "cell_type": "markdown",
   "metadata": {},
   "source": [
    "##### Why doesn't read_fit_spectra work for ZsYellow?"
   ]
  },
  {
   "cell_type": "markdown",
   "metadata": {},
   "source": [
    "Work through step-by-step."
   ]
  },
  {
   "cell_type": "markdown",
   "metadata": {},
   "source": [
    "Is the problem that DsRed library file has values for all wavelengths but ZsYellow file doesn't? This is easy to fix if so..."
   ]
  },
  {
   "cell_type": "code",
   "execution_count": 282,
   "metadata": {},
   "outputs": [],
   "source": [
    "DsRed_spec = pd.read_csv('/scratch2/NSF_GWAS/GMOdetectoR/spectra_library/DsRed.csv')\n",
    "ZsYellow_spec = pd.read_csv('/scratch2/NSF_GWAS/GMOdetectoR/spectra_library/ZsYellow.csv')"
   ]
  },
  {
   "cell_type": "code",
   "execution_count": 283,
   "metadata": {},
   "outputs": [
    {
     "data": {
      "text/plain": [
       "(318, 2)"
      ]
     },
     "execution_count": 283,
     "metadata": {},
     "output_type": "execute_result"
    }
   ],
   "source": [
    "DsRed_spec.shape"
   ]
  },
  {
   "cell_type": "code",
   "execution_count": 284,
   "metadata": {},
   "outputs": [
    {
     "data": {
      "text/plain": [
       "(207, 2)"
      ]
     },
     "execution_count": 284,
     "metadata": {},
     "output_type": "execute_result"
    }
   ],
   "source": [
    "ZsYellow_spec.shape"
   ]
  },
  {
   "cell_type": "markdown",
   "metadata": {},
   "source": [
    "Yes, that does seem to be the problem. Why is it happening with rpy2 but no tin R version? Work in both RStudio and Jupyter alongside step-by-step to see where it becoems 207 or 318 in each."
   ]
  },
  {
   "cell_type": "markdown",
   "metadata": {},
   "source": [
    "That method of debugging didn't work since the R function is fed a subset of wavelengths, where here we use all wavelengths. Should do some type of merge instead."
   ]
  },
  {
   "cell_type": "code",
   "execution_count": 299,
   "metadata": {},
   "outputs": [],
   "source": [
    "pub_emission_spectrum = pd.read_csv('/scratch2/NSF_GWAS/GMOdetectoR/spectra_library/ZsYellow.csv')\n",
    "pub_emission_spectrum = pub_emission_spectrum.rename(columns={'emission wavelength (nm)': 'wavelength'})\n",
    "pub_emission_spectrum = pub_emission_spectrum.rename(columns={'Normalized emission': 'intensity'})\n",
    "\n",
    "# Convert pandas object to something R-friendly https://rpy2.github.io/doc/latest/html/pandas.html\n",
    "with localconverter(ro.default_converter + ro.pandas2ri.converter):\n",
    "    r_from_pd_df = ro.conversion.py2rpy(pub_emission_spectrum) # If not in rpy2=2.9.4 may have error here due to no attribute 'py2rpy'\n",
    "\n",
    "# Use rpy2 so we can use loess from R, as in old version, get same exact results\n",
    "# Fit\n",
    "fit = stats.loess(ro.Formula('intensity~wavelength'), data=r_from_pd_df, span=0.1)"
   ]
  },
  {
   "cell_type": "code",
   "execution_count": 300,
   "metadata": {},
   "outputs": [],
   "source": [
    "# Prepare to predict\n",
    "predict_from = {'wavelength':wavelengths}\n",
    "predict_from = pd.DataFrame(predict_from)"
   ]
  },
  {
   "cell_type": "code",
   "execution_count": 301,
   "metadata": {},
   "outputs": [
    {
     "data": {
      "text/html": [
       "<div>\n",
       "<style scoped>\n",
       "    .dataframe tbody tr th:only-of-type {\n",
       "        vertical-align: middle;\n",
       "    }\n",
       "\n",
       "    .dataframe tbody tr th {\n",
       "        vertical-align: top;\n",
       "    }\n",
       "\n",
       "    .dataframe thead th {\n",
       "        text-align: right;\n",
       "    }\n",
       "</style>\n",
       "<table border=\"1\" class=\"dataframe\">\n",
       "  <thead>\n",
       "    <tr style=\"text-align: right;\">\n",
       "      <th></th>\n",
       "      <th>wavelength</th>\n",
       "    </tr>\n",
       "  </thead>\n",
       "  <tbody>\n",
       "    <tr>\n",
       "      <th>0</th>\n",
       "      <td>399.8645</td>\n",
       "    </tr>\n",
       "    <tr>\n",
       "      <th>1</th>\n",
       "      <td>401.0927</td>\n",
       "    </tr>\n",
       "    <tr>\n",
       "      <th>2</th>\n",
       "      <td>402.3212</td>\n",
       "    </tr>\n",
       "    <tr>\n",
       "      <th>3</th>\n",
       "      <td>403.5499</td>\n",
       "    </tr>\n",
       "    <tr>\n",
       "      <th>4</th>\n",
       "      <td>404.7787</td>\n",
       "    </tr>\n",
       "    <tr>\n",
       "      <th>...</th>\n",
       "      <td>...</td>\n",
       "    </tr>\n",
       "    <tr>\n",
       "      <th>313</th>\n",
       "      <td>794.6728</td>\n",
       "    </tr>\n",
       "    <tr>\n",
       "      <th>314</th>\n",
       "      <td>795.9675</td>\n",
       "    </tr>\n",
       "    <tr>\n",
       "      <th>315</th>\n",
       "      <td>797.2625</td>\n",
       "    </tr>\n",
       "    <tr>\n",
       "      <th>316</th>\n",
       "      <td>798.5575</td>\n",
       "    </tr>\n",
       "    <tr>\n",
       "      <th>317</th>\n",
       "      <td>799.8529</td>\n",
       "    </tr>\n",
       "  </tbody>\n",
       "</table>\n",
       "<p>318 rows × 1 columns</p>\n",
       "</div>"
      ],
      "text/plain": [
       "    wavelength\n",
       "0     399.8645\n",
       "1     401.0927\n",
       "2     402.3212\n",
       "3     403.5499\n",
       "4     404.7787\n",
       "..         ...\n",
       "313   794.6728\n",
       "314   795.9675\n",
       "315   797.2625\n",
       "316   798.5575\n",
       "317   799.8529\n",
       "\n",
       "[318 rows x 1 columns]"
      ]
     },
     "execution_count": 301,
     "metadata": {},
     "output_type": "execute_result"
    }
   ],
   "source": [
    "predict_from"
   ]
  },
  {
   "cell_type": "code",
   "execution_count": 323,
   "metadata": {},
   "outputs": [],
   "source": [
    "numpy2ri.activate()"
   ]
  },
  {
   "cell_type": "code",
   "execution_count": 320,
   "metadata": {},
   "outputs": [
    {
     "ename": "NotImplementedError",
     "evalue": "Conversion 'py2rpy' not defined for objects of type '<class 'numpy.ndarray'>'",
     "output_type": "error",
     "traceback": [
      "\u001b[0;31m---------------------------------------------------------------------------\u001b[0m",
      "\u001b[0;31mNotImplementedError\u001b[0m                       Traceback (most recent call last)",
      "\u001b[0;32m<ipython-input-320-6deb27e7bacb>\u001b[0m in \u001b[0;36m<module>\u001b[0;34m\u001b[0m\n\u001b[1;32m      1\u001b[0m \u001b[0;32mwith\u001b[0m \u001b[0mlocalconverter\u001b[0m\u001b[0;34m(\u001b[0m\u001b[0mro\u001b[0m\u001b[0;34m.\u001b[0m\u001b[0mdefault_converter\u001b[0m \u001b[0;34m+\u001b[0m \u001b[0mro\u001b[0m\u001b[0;34m.\u001b[0m\u001b[0mpandas2ri\u001b[0m\u001b[0;34m.\u001b[0m\u001b[0mconverter\u001b[0m\u001b[0;34m)\u001b[0m\u001b[0;34m:\u001b[0m\u001b[0;34m\u001b[0m\u001b[0;34m\u001b[0m\u001b[0m\n\u001b[0;32m----> 2\u001b[0;31m     \u001b[0mr_predict_from\u001b[0m \u001b[0;34m=\u001b[0m \u001b[0mro\u001b[0m\u001b[0;34m.\u001b[0m\u001b[0mconversion\u001b[0m\u001b[0;34m.\u001b[0m\u001b[0mpy2rpy\u001b[0m\u001b[0;34m(\u001b[0m\u001b[0mwavelengths\u001b[0m\u001b[0;34m)\u001b[0m \u001b[0;31m# If not in rpy2>3.0.5 may have error here due to no attribute 'py2rpy'\u001b[0m\u001b[0;34m\u001b[0m\u001b[0;34m\u001b[0m\u001b[0m\n\u001b[0m",
      "\u001b[0;32m/scratch2/NSF_GWAS/anaconda3/lib/python3.7/functools.py\u001b[0m in \u001b[0;36mwrapper\u001b[0;34m(*args, **kw)\u001b[0m\n\u001b[1;32m    838\u001b[0m                             '1 positional argument')\n\u001b[1;32m    839\u001b[0m \u001b[0;34m\u001b[0m\u001b[0m\n\u001b[0;32m--> 840\u001b[0;31m         \u001b[0;32mreturn\u001b[0m \u001b[0mdispatch\u001b[0m\u001b[0;34m(\u001b[0m\u001b[0margs\u001b[0m\u001b[0;34m[\u001b[0m\u001b[0;36m0\u001b[0m\u001b[0;34m]\u001b[0m\u001b[0;34m.\u001b[0m\u001b[0m__class__\u001b[0m\u001b[0;34m)\u001b[0m\u001b[0;34m(\u001b[0m\u001b[0;34m*\u001b[0m\u001b[0margs\u001b[0m\u001b[0;34m,\u001b[0m \u001b[0;34m**\u001b[0m\u001b[0mkw\u001b[0m\u001b[0;34m)\u001b[0m\u001b[0;34m\u001b[0m\u001b[0;34m\u001b[0m\u001b[0m\n\u001b[0m\u001b[1;32m    841\u001b[0m \u001b[0;34m\u001b[0m\u001b[0m\n\u001b[1;32m    842\u001b[0m     \u001b[0mfuncname\u001b[0m \u001b[0;34m=\u001b[0m \u001b[0mgetattr\u001b[0m\u001b[0;34m(\u001b[0m\u001b[0mfunc\u001b[0m\u001b[0;34m,\u001b[0m \u001b[0;34m'__name__'\u001b[0m\u001b[0;34m,\u001b[0m \u001b[0;34m'singledispatch function'\u001b[0m\u001b[0;34m)\u001b[0m\u001b[0;34m\u001b[0m\u001b[0;34m\u001b[0m\u001b[0m\n",
      "\u001b[0;32m~/.local/lib/python3.7/site-packages/rpy2/robjects/conversion.py\u001b[0m in \u001b[0;36m_py2rpy\u001b[0;34m(obj)\u001b[0m\n\u001b[1;32m    172\u001b[0m     raise NotImplementedError(\n\u001b[1;32m    173\u001b[0m         \u001b[0;34m\"Conversion 'py2rpy' not defined for objects of type '%s'\"\u001b[0m \u001b[0;34m%\u001b[0m\u001b[0;34m\u001b[0m\u001b[0;34m\u001b[0m\u001b[0m\n\u001b[0;32m--> 174\u001b[0;31m         \u001b[0mstr\u001b[0m\u001b[0;34m(\u001b[0m\u001b[0mtype\u001b[0m\u001b[0;34m(\u001b[0m\u001b[0mobj\u001b[0m\u001b[0;34m)\u001b[0m\u001b[0;34m)\u001b[0m\u001b[0;34m\u001b[0m\u001b[0;34m\u001b[0m\u001b[0m\n\u001b[0m\u001b[1;32m    175\u001b[0m     )\n\u001b[1;32m    176\u001b[0m \u001b[0;34m\u001b[0m\u001b[0m\n",
      "\u001b[0;31mNotImplementedError\u001b[0m: Conversion 'py2rpy' not defined for objects of type '<class 'numpy.ndarray'>'"
     ]
    }
   ],
   "source": [
    "with localconverter(ro.default_converter + ro.pandas2ri.converter):\n",
    "    r_predict_from = ro.conversion.py2rpy(wavelengths) # If not in rpy2>3.0.5 may have error here due to no attribute 'py2rpy'"
   ]
  },
  {
   "cell_type": "code",
   "execution_count": 324,
   "metadata": {},
   "outputs": [],
   "source": [
    "# Predict\n",
    "predictions = stats.predict(fit, wavelengths)"
   ]
  },
  {
   "cell_type": "code",
   "execution_count": 325,
   "metadata": {},
   "outputs": [
    {
     "data": {
      "text/plain": [
       "318"
      ]
     },
     "execution_count": 325,
     "metadata": {},
     "output_type": "execute_result"
    }
   ],
   "source": [
    "len(predictions)"
   ]
  },
  {
   "cell_type": "markdown",
   "metadata": {},
   "source": [
    "##### Solved. The problem was that I was predicting from original wavelengths instead of desired ones (translation error)"
   ]
  },
  {
   "cell_type": "code",
   "execution_count": 338,
   "metadata": {},
   "outputs": [],
   "source": [
    "def build_X(fluorophore_ID_vector, intercept, wavelengths,\n",
    "            min_desired_wavelength, max_desired_wavelength):  \n",
    "    \n",
    "    for i in range(0, (len(fluorophore_ID_vector))):\n",
    "        print(i)\n",
    "        path = (spectral_library_path + str(fluorophore_ID_vector[i]) + \".csv\")\n",
    "        if(os.path.isfile(path) == False):\n",
    "            raise NameError(\"Error: Spectrum for \" + fluorophore_ID_vector[i] + \" not found in spectra_library folder\")\n",
    "\n",
    "        spectra = read_fit_spectra(spectra_path = path,\n",
    "                                   wavelengths = wavelengths,\n",
    "                                   plot = False,\n",
    "                                   spectra_noise_threshold = 0.01)\n",
    "\n",
    "        if(i==0 and intercept==1):\n",
    "            intercept_vector = [1] * len(wavelengths)\n",
    "            mm = np.c_[(intercept_vector, np.asarray(spectra['intensity']))] # https://stackoverflow.com/questions/43961585/cbind-r-function-equivalent-in-numpy\n",
    "\n",
    "        if(i==0 and intercept==0):\n",
    "            mm = np.array(spectra['intensity'])\n",
    "\n",
    "        if(i>0):\n",
    "            mm = np.c_[mm, np.array(spectra['intensity'])] # https://stackoverflow.com/questions/43961585/cbind-r-function-equivalent-in-numpy\n",
    "\n",
    "    wavelengths = np.asarray(wavelengths)\n",
    "    \n",
    "    # https://stackoverflow.com/questions/13869173/numpy-find-index-of-the-elements-within-range\n",
    "    wavelength_indices_desired = np.where(np.logical_and(wavelengths.astype(float)>=min_desired_wavelength,\n",
    "                                                         wavelengths.astype(float)<=max_desired_wavelength))\n",
    "\n",
    "    return(mm[wavelength_indices_desired,])"
   ]
  },
  {
   "cell_type": "code",
   "execution_count": 339,
   "metadata": {},
   "outputs": [],
   "source": [
    "def read_fit_spectra(spectra_path, wavelengths, plot=False, spectra_noise_threshold = 0.01):\n",
    "    \n",
    "    numpy2ri.activate()\n",
    "\n",
    "    pub_emission_spectrum = pd.read_csv(spectra_path)\n",
    "    pub_emission_spectrum = pub_emission_spectrum.rename(columns={'emission wavelength (nm)': 'wavelength'})\n",
    "    pub_emission_spectrum = pub_emission_spectrum.rename(columns={'Normalized emission': 'intensity'})\n",
    "\n",
    "    # Convert pandas object to something R-friendly https://rpy2.github.io/doc/latest/html/pandas.html\n",
    "    with localconverter(ro.default_converter + ro.pandas2ri.converter):\n",
    "        r_from_pd_df = ro.conversion.py2rpy(pub_emission_spectrum) # If not in rpy2=2.9.4 may have error here due to no attribute 'py2rpy'\n",
    "\n",
    "    # Use rpy2 so we can use loess from R, as in old version, get same exact results\n",
    "    # Fit\n",
    "    fit = stats.loess(ro.Formula('intensity~wavelength'), data=r_from_pd_df, span=0.1)\n",
    "\n",
    "    # Predict\n",
    "    predictions = stats.predict(fit, wavelengths)\n",
    "    predictions = scales.rescale(predictions, center='FALSE') # by default, scales between 0 and 1.\n",
    "\n",
    "    # Scale\n",
    "    scaled_emission_spectra = {'wavelength': wavelengths, 'intensity': predictions}\n",
    "    scaled_emission_spectra = pd.DataFrame(scaled_emission_spectra)\n",
    "\n",
    "    # Denoise\n",
    "    print(scaled_emission_spectra.head())\n",
    "    print(spectra_noise_threshold)\n",
    "    scaled_emission_spectra.loc[scaled_emission_spectra['intensity'] < spectra_noise_threshold, 'intensity'] = 0\n",
    "    print(scaled_emission_spectra.head())\n",
    "    if plot == True:\n",
    "        print('Plotting not supported here yet.')\n",
    "\n",
    "    numpy2ri.deactivate()\n",
    "        \n",
    "    return(scaled_emission_spectra)"
   ]
  },
  {
   "cell_type": "code",
   "execution_count": 343,
   "metadata": {},
   "outputs": [
    {
     "name": "stdout",
     "output_type": "stream",
     "text": [
      "0\n",
      "  wavelength  intensity\n",
      "0   399.8645   0.000201\n",
      "1   401.0927   0.000201\n",
      "2   402.3212   0.000201\n",
      "3   403.5499   0.000201\n",
      "4   404.7787   0.000201\n",
      "0.01\n",
      "  wavelength  intensity\n",
      "0   399.8645        0.0\n",
      "1   401.0927        0.0\n",
      "2   402.3212        0.0\n",
      "3   403.5499        0.0\n",
      "4   404.7787        0.0\n",
      "1\n",
      "  wavelength  intensity\n",
      "0   399.8645        NaN\n",
      "1   401.0927        NaN\n",
      "2   402.3212        NaN\n",
      "3   403.5499        NaN\n",
      "4   404.7787   0.000706\n",
      "0.01\n",
      "  wavelength  intensity\n",
      "0   399.8645        NaN\n",
      "1   401.0927        NaN\n",
      "2   402.3212        NaN\n",
      "3   403.5499        NaN\n",
      "4   404.7787        0.0\n",
      "2\n",
      "  wavelength  intensity\n",
      "0   399.8645   0.001076\n",
      "1   401.0927   0.001076\n",
      "2   402.3212   0.001076\n",
      "3   403.5499   0.001076\n",
      "4   404.7787   0.001076\n",
      "0.01\n",
      "  wavelength  intensity\n",
      "0   399.8645        0.0\n",
      "1   401.0927        0.0\n",
      "2   402.3212        0.0\n",
      "3   403.5499        0.0\n",
      "4   404.7787        0.0\n",
      "3\n",
      "  wavelength  intensity\n",
      "0   399.8645   0.008441\n",
      "1   401.0927   0.008441\n",
      "2   402.3212   0.008441\n",
      "3   403.5499   0.008441\n",
      "4   404.7787   0.008441\n",
      "0.01\n",
      "  wavelength  intensity\n",
      "0   399.8645        0.0\n",
      "1   401.0927        0.0\n",
      "2   402.3212        0.0\n",
      "3   403.5499        0.0\n",
      "4   404.7787        0.0\n"
     ]
    },
    {
     "data": {
      "text/plain": [
       "array([[[1.        , 0.        , 0.        , 0.        , 0.        ],\n",
       "        [1.        , 0.        , 0.        , 0.        , 0.        ],\n",
       "        [1.        , 0.        , 0.        , 0.        , 0.        ],\n",
       "        ...,\n",
       "        [1.        , 0.        ,        nan, 0.0132177 , 0.        ],\n",
       "        [1.        , 0.        ,        nan, 0.01092884, 0.        ],\n",
       "        [1.        , 0.        ,        nan, 0.        , 0.        ]]])"
      ]
     },
     "execution_count": 343,
     "metadata": {},
     "output_type": "execute_result"
    }
   ],
   "source": [
    "build_X(fluorophore_ID_vector = spectral_library,\n",
    "        intercept = 1,\n",
    "        wavelengths = wavelengths,\n",
    "        min_desired_wavelength = 445,\n",
    "        max_desired_wavelength = 725)"
   ]
  },
  {
   "cell_type": "code",
   "execution_count": null,
   "metadata": {},
   "outputs": [],
   "source": []
  }
 ],
 "metadata": {
  "kernelspec": {
   "display_name": "Python (base)",
   "language": "python",
   "name": "base"
  },
  "language_info": {
   "codemirror_mode": {
    "name": "ipython",
    "version": 3
   },
   "file_extension": ".py",
   "mimetype": "text/x-python",
   "name": "python",
   "nbconvert_exporter": "python",
   "pygments_lexer": "ipython3",
   "version": "3.7.4"
  }
 },
 "nbformat": 4,
 "nbformat_minor": 4
}
