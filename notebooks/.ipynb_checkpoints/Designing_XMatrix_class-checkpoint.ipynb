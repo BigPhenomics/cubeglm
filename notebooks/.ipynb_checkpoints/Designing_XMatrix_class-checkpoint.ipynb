{
 "cells": [
  {
   "cell_type": "markdown",
   "metadata": {},
   "source": [
    "# Define the XMatrix class"
   ]
  },
  {
   "cell_type": "markdown",
   "metadata": {},
   "source": [
    "...and test it out"
   ]
  },
  {
   "cell_type": "code",
   "execution_count": 20,
   "metadata": {},
   "outputs": [],
   "source": [
    "class XMatrix:\n",
    "    \"\"\"A design matrix for multiple linear regression, with effect and observation labels\n",
    "    \n",
    "    :param value: value to set as the ``attribute`` attribute\n",
    "    :ivar attribute: contains the contents of ``values`` passed as init\n",
    "    \n",
    "    \"\"\"\n",
    "    #i = 12345\n",
    "\n",
    "    #def f(self):\n",
    "    #    return 'hello world'\n",
    "    \n",
    "    def __init__(self, fluorophore_ID_vector, spectral_library_path,\n",
    "                 intercept, wavelengths,\n",
    "                 min_desired_wavelength, max_desired_wavelength):\n",
    "        # Define attribute with contents of the value param\n",
    "        \n",
    "        if intercept == 1:\n",
    "            components = fluorophore_ID_vector.copy()\n",
    "            components.insert(0, \"Intercept\")\n",
    "        \n",
    "        self.matrix = build_X(fluorophore_ID_vector = fluorophore_ID_vector,\n",
    "                                             spectral_library_path = spectral_library_path,\n",
    "                                             intercept = intercept,\n",
    "                                             wavelengths = wavelengths,\n",
    "                                             min_desired_wavelength = min_desired_wavelength,\n",
    "                                             max_desired_wavelength = max_desired_wavelength)\n",
    "        self.wavelengths = np.asarray(wavelengths)[find_desired_indices(wavelengths,\n",
    "                                                            min_desired_wavelength,\n",
    "                                                            max_desired_wavelength)] #BUG! This is not the trimmed range...\n",
    "        self.components = components"
   ]
  },
  {
   "cell_type": "code",
   "execution_count": 2,
   "metadata": {},
   "outputs": [],
   "source": [
    "import os"
   ]
  },
  {
   "cell_type": "code",
   "execution_count": 3,
   "metadata": {},
   "outputs": [],
   "source": [
    "os.chdir(\"gmodetector_py\")"
   ]
  },
  {
   "cell_type": "code",
   "execution_count": 4,
   "metadata": {},
   "outputs": [],
   "source": [
    "import x_import_utils"
   ]
  },
  {
   "cell_type": "code",
   "execution_count": 5,
   "metadata": {},
   "outputs": [],
   "source": [
    "import spectral.io.envi as envi"
   ]
  },
  {
   "cell_type": "code",
   "execution_count": 6,
   "metadata": {},
   "outputs": [],
   "source": [
    "import glob"
   ]
  },
  {
   "cell_type": "code",
   "execution_count": 10,
   "metadata": {},
   "outputs": [],
   "source": [
    "files_list = glob.glob(\"/scratch2/NSF_GWAS/macroPhor_Array/T16_DEV_genes/EA/wk7/*.hdr\")\n",
    "i = 2\n",
    "file_path = files_list[i]"
   ]
  },
  {
   "cell_type": "code",
   "execution_count": 11,
   "metadata": {},
   "outputs": [
    {
     "name": "stdout",
     "output_type": "stream",
     "text": [
      "Header parameter names converted to lower case.\n"
     ]
    },
    {
     "name": "stderr",
     "output_type": "stream",
     "text": [
      "/scratch2/NSF_GWAS/anaconda3/lib/python3.7/site-packages/spectral/io/envi.py:195: UserWarning: Parameters with non-lowercase names encountered and converted to lowercase. To retain source file parameter name capitalization, set spectral.setttings.envi_support_nonlowercase_params to True.\n",
      "  warnings.warn(msg)\n"
     ]
    }
   ],
   "source": [
    "h = envi.read_envi_header(file_path)\n",
    "wavelengths = h['wavelength']"
   ]
  },
  {
   "cell_type": "code",
   "execution_count": 9,
   "metadata": {},
   "outputs": [
    {
     "name": "stdout",
     "output_type": "stream",
     "text": [
      "0\n"
     ]
    },
    {
     "ename": "NameError",
     "evalue": "name 'os' is not defined",
     "output_type": "error",
     "traceback": [
      "\u001b[0;31m---------------------------------------------------------------------------\u001b[0m",
      "\u001b[0;31mNameError\u001b[0m                                 Traceback (most recent call last)",
      "\u001b[0;32m<ipython-input-9-00318d1acce9>\u001b[0m in \u001b[0;36m<module>\u001b[0;34m\u001b[0m\n\u001b[1;32m      4\u001b[0m                       \u001b[0mwavelengths\u001b[0m \u001b[0;34m=\u001b[0m \u001b[0mwavelengths\u001b[0m\u001b[0;34m,\u001b[0m\u001b[0;34m\u001b[0m\u001b[0;34m\u001b[0m\u001b[0m\n\u001b[1;32m      5\u001b[0m                       \u001b[0mmin_desired_wavelength\u001b[0m \u001b[0;34m=\u001b[0m \u001b[0;36m450\u001b[0m\u001b[0;34m,\u001b[0m\u001b[0;34m\u001b[0m\u001b[0;34m\u001b[0m\u001b[0m\n\u001b[0;32m----> 6\u001b[0;31m                       max_desired_wavelength = 750)\n\u001b[0m",
      "\u001b[0;32m<ipython-input-1-43f8798f8b7a>\u001b[0m in \u001b[0;36m__init__\u001b[0;34m(self, fluorophore_ID_vector, spectral_library_path, intercept, wavelengths, min_desired_wavelength, max_desired_wavelength)\u001b[0m\n\u001b[1;32m     20\u001b[0m                                              \u001b[0mwavelengths\u001b[0m \u001b[0;34m=\u001b[0m \u001b[0mwavelengths\u001b[0m\u001b[0;34m,\u001b[0m\u001b[0;34m\u001b[0m\u001b[0;34m\u001b[0m\u001b[0m\n\u001b[1;32m     21\u001b[0m                                              \u001b[0mmin_desired_wavelength\u001b[0m \u001b[0;34m=\u001b[0m \u001b[0mmin_desired_wavelength\u001b[0m\u001b[0;34m,\u001b[0m\u001b[0;34m\u001b[0m\u001b[0;34m\u001b[0m\u001b[0m\n\u001b[0;32m---> 22\u001b[0;31m                                              max_desired_wavelength = max_desired_wavelength)\n\u001b[0m\u001b[1;32m     23\u001b[0m         \u001b[0mself\u001b[0m\u001b[0;34m.\u001b[0m\u001b[0mwavelengths\u001b[0m \u001b[0;34m=\u001b[0m \u001b[0mwavelengths\u001b[0m\u001b[0;34m\u001b[0m\u001b[0;34m\u001b[0m\u001b[0m\n\u001b[1;32m     24\u001b[0m         \u001b[0mself\u001b[0m\u001b[0;34m.\u001b[0m\u001b[0mcomponents\u001b[0m \u001b[0;34m=\u001b[0m \u001b[0mfluorophore_ID_vector\u001b[0m\u001b[0;34m\u001b[0m\u001b[0;34m\u001b[0m\u001b[0m\n",
      "\u001b[0;32m/scratch2/NSF_GWAS/notebooks/gmodetector_py/gmodetector_py/x_import_utils.py\u001b[0m in \u001b[0;36mbuild_X\u001b[0;34m(fluorophore_ID_vector, spectral_library_path, intercept, wavelengths, min_desired_wavelength, max_desired_wavelength)\u001b[0m\n\u001b[1;32m     42\u001b[0m         \u001b[0mprint\u001b[0m\u001b[0;34m(\u001b[0m\u001b[0mi\u001b[0m\u001b[0;34m)\u001b[0m\u001b[0;34m\u001b[0m\u001b[0;34m\u001b[0m\u001b[0m\n\u001b[1;32m     43\u001b[0m         \u001b[0mpath\u001b[0m \u001b[0;34m=\u001b[0m \u001b[0;34m(\u001b[0m\u001b[0mspectral_library_path\u001b[0m \u001b[0;34m+\u001b[0m \u001b[0mstr\u001b[0m\u001b[0;34m(\u001b[0m\u001b[0mfluorophore_ID_vector\u001b[0m\u001b[0;34m[\u001b[0m\u001b[0mi\u001b[0m\u001b[0;34m]\u001b[0m\u001b[0;34m)\u001b[0m \u001b[0;34m+\u001b[0m \u001b[0;34m\".csv\"\u001b[0m\u001b[0;34m)\u001b[0m\u001b[0;34m\u001b[0m\u001b[0;34m\u001b[0m\u001b[0m\n\u001b[0;32m---> 44\u001b[0;31m         \u001b[0;32mif\u001b[0m\u001b[0;34m(\u001b[0m\u001b[0mos\u001b[0m\u001b[0;34m.\u001b[0m\u001b[0mpath\u001b[0m\u001b[0;34m.\u001b[0m\u001b[0misfile\u001b[0m\u001b[0;34m(\u001b[0m\u001b[0mpath\u001b[0m\u001b[0;34m)\u001b[0m \u001b[0;34m==\u001b[0m \u001b[0;32mFalse\u001b[0m\u001b[0;34m)\u001b[0m\u001b[0;34m:\u001b[0m\u001b[0;34m\u001b[0m\u001b[0;34m\u001b[0m\u001b[0m\n\u001b[0m\u001b[1;32m     45\u001b[0m             \u001b[0;32mraise\u001b[0m \u001b[0mNameError\u001b[0m\u001b[0;34m(\u001b[0m\u001b[0;34m\"Error: Spectrum for \"\u001b[0m \u001b[0;34m+\u001b[0m \u001b[0mfluorophore_ID_vector\u001b[0m\u001b[0;34m[\u001b[0m\u001b[0mi\u001b[0m\u001b[0;34m]\u001b[0m \u001b[0;34m+\u001b[0m \u001b[0;34m\" not found in spectra_library folder\"\u001b[0m\u001b[0;34m)\u001b[0m\u001b[0;34m\u001b[0m\u001b[0;34m\u001b[0m\u001b[0m\n\u001b[1;32m     46\u001b[0m \u001b[0;34m\u001b[0m\u001b[0m\n",
      "\u001b[0;31mNameError\u001b[0m: name 'os' is not defined"
     ]
    }
   ],
   "source": [
    "test_matrix = XMatrix(fluorophore_ID_vector = ['DsRed', 'ZsYellow', 'Chl', 'Diffraction'],\n",
    "                      spectral_library_path = \"/scratch2/NSF_GWAS/GMOdetectoR/spectra_library/\",\n",
    "                      intercept = 1,\n",
    "                      wavelengths = wavelengths,\n",
    "                      min_desired_wavelength = 450,\n",
    "                      max_desired_wavelength = 750)"
   ]
  },
  {
   "cell_type": "markdown",
   "metadata": {},
   "source": [
    "<div class=\"alert alert-block alert-danger\">\n",
    "I need to figure out this peculiarity of libraries imported and used inside functions not working when the library is imported outside of the function. In the meantime, just copy and paste latest version of revelant functions into Jupyter.\n",
    "</div>"
   ]
  },
  {
   "cell_type": "code",
   "execution_count": 18,
   "metadata": {},
   "outputs": [],
   "source": [
    "def read_fit_spectra(spectra_path, wavelengths, plot=False, spectra_noise_threshold = 0.01):\n",
    "    \n",
    "    numpy2ri.activate()\n",
    "\n",
    "    pub_emission_spectrum = pd.read_csv(spectra_path)\n",
    "    pub_emission_spectrum = pub_emission_spectrum.rename(columns={'emission wavelength (nm)': 'wavelength'})\n",
    "    pub_emission_spectrum = pub_emission_spectrum.rename(columns={'Normalized emission': 'intensity'})\n",
    "\n",
    "    # Convert pandas object to something R-friendly https://rpy2.github.io/doc/latest/html/pandas.html\n",
    "    with localconverter(ro.default_converter + ro.pandas2ri.converter):\n",
    "        r_from_pd_df = ro.conversion.py2rpy(pub_emission_spectrum) # If not in rpy2=2.9.4 may have error here due to no attribute 'py2rpy'\n",
    "\n",
    "    # Use rpy2 so we can use loess from R, as in old version, get same exact results\n",
    "    # Fit\n",
    "    fit = stats.loess(ro.Formula('intensity~wavelength'), data=r_from_pd_df, span=0.1)\n",
    "\n",
    "    # Predict\n",
    "    predictions = stats.predict(fit, wavelengths)\n",
    "    predictions = scales.rescale(predictions, center='FALSE') # by default, scales between 0 and 1.\n",
    "\n",
    "    # Scale\n",
    "    scaled_emission_spectra = {'wavelength': wavelengths, 'intensity': predictions}\n",
    "    scaled_emission_spectra = pd.DataFrame(scaled_emission_spectra)\n",
    "\n",
    "    # Denoise\n",
    "    print(scaled_emission_spectra.head())\n",
    "    print(spectra_noise_threshold)\n",
    "    scaled_emission_spectra.loc[scaled_emission_spectra['intensity'] < spectra_noise_threshold, 'intensity'] = 0\n",
    "    print(scaled_emission_spectra.head())\n",
    "    if plot == True:\n",
    "        print('Plotting not supported here yet.')\n",
    "\n",
    "    numpy2ri.deactivate()\n",
    "        \n",
    "    return(scaled_emission_spectra)\n",
    "\n",
    "def find_desired_indices(wavelengths, min_desired_wavelength, max_desired_wavelength):\n",
    "    wavelengths = np.asarray(wavelengths)\n",
    "    # https://stackoverflow.com/questions/13869173/numpy-find-index-of-the-elements-within-range\n",
    "    wavelength_indices_desired = np.where(np.logical_and(wavelengths.astype(float)>=min_desired_wavelength,\n",
    "                                                          wavelengths.astype(float)<=max_desired_wavelength))\n",
    "    return(wavelength_indices_desired)\n",
    "\n",
    "def build_X(fluorophore_ID_vector, spectral_library_path, \n",
    "            intercept, wavelengths,\n",
    "            min_desired_wavelength, max_desired_wavelength):  \n",
    "    \n",
    "    for i in range(0, (len(fluorophore_ID_vector))):\n",
    "        print(i)\n",
    "        path = (spectral_library_path + str(fluorophore_ID_vector[i]) + \".csv\")\n",
    "        if(os.path.isfile(path) == False):\n",
    "            raise NameError(\"Error: Spectrum for \" + fluorophore_ID_vector[i] + \" not found in spectra_library folder\")\n",
    "\n",
    "        spectra = read_fit_spectra(spectra_path = path,\n",
    "                                   wavelengths = wavelengths,\n",
    "                                   plot = False,\n",
    "                                   spectra_noise_threshold = 0.01)\n",
    "\n",
    "        if(i==0 and intercept==1):\n",
    "            intercept_vector = [1] * len(wavelengths)\n",
    "            # https://stackoverflow.com/questions/43961585/cbind-r-function-equivalent-in-numpy\n",
    "            mm = np.c_[(intercept_vector, np.asarray(spectra['intensity']))] \n",
    "\n",
    "        if(i==0 and intercept==0):\n",
    "            mm = np.array(spectra['intensity'])\n",
    "\n",
    "        if(i>0):\n",
    "            # https://stackoverflow.com/questions/43961585/cbind-r-function-equivalent-in-numpy\n",
    "            mm = np.c_[mm, np.array(spectra['intensity'])] \n",
    "\n",
    "\n",
    "    \n",
    "\n",
    "    wavelength_indices_desired = find_desired_indices(wavelengths, min_desired_wavelength, max_desired_wavelength)\n",
    "\n",
    "    return(mm[wavelength_indices_desired,])"
   ]
  },
  {
   "cell_type": "code",
   "execution_count": 16,
   "metadata": {},
   "outputs": [],
   "source": [
    "import pandas as pd\n",
    "import numpy as np\n",
    "from rpy2.robjects import numpy2ri\n",
    "\n",
    "from rpy2.robjects.packages import importr\n",
    "stats=importr('stats')\n",
    "scales=importr('scales')\n",
    "\n",
    "import rpy2.robjects as ro\n",
    "from rpy2.robjects.conversion import localconverter\n",
    "from rpy2.robjects import pandas2ri"
   ]
  },
  {
   "cell_type": "markdown",
   "metadata": {},
   "source": [
    "Now try again..."
   ]
  },
  {
   "cell_type": "code",
   "execution_count": 21,
   "metadata": {},
   "outputs": [
    {
     "name": "stdout",
     "output_type": "stream",
     "text": [
      "0\n",
      "  wavelength  intensity\n",
      "0   399.8645   0.000201\n",
      "1   401.0927   0.000201\n",
      "2   402.3212   0.000201\n",
      "3   403.5499   0.000201\n",
      "4   404.7787   0.000201\n",
      "0.01\n",
      "  wavelength  intensity\n",
      "0   399.8645        0.0\n",
      "1   401.0927        0.0\n",
      "2   402.3212        0.0\n",
      "3   403.5499        0.0\n",
      "4   404.7787        0.0\n",
      "1\n",
      "  wavelength  intensity\n",
      "0   399.8645        NaN\n",
      "1   401.0927        NaN\n",
      "2   402.3212        NaN\n",
      "3   403.5499        NaN\n",
      "4   404.7787   0.000706\n",
      "0.01\n",
      "  wavelength  intensity\n",
      "0   399.8645        NaN\n",
      "1   401.0927        NaN\n",
      "2   402.3212        NaN\n",
      "3   403.5499        NaN\n",
      "4   404.7787        0.0\n",
      "2\n",
      "  wavelength  intensity\n",
      "0   399.8645   0.001076\n",
      "1   401.0927   0.001076\n",
      "2   402.3212   0.001076\n",
      "3   403.5499   0.001076\n",
      "4   404.7787   0.001076\n",
      "0.01\n",
      "  wavelength  intensity\n",
      "0   399.8645        0.0\n",
      "1   401.0927        0.0\n",
      "2   402.3212        0.0\n",
      "3   403.5499        0.0\n",
      "4   404.7787        0.0\n",
      "3\n",
      "  wavelength  intensity\n",
      "0   399.8645   0.008441\n",
      "1   401.0927   0.008441\n",
      "2   402.3212   0.008441\n",
      "3   403.5499   0.008441\n",
      "4   404.7787   0.008441\n",
      "0.01\n",
      "  wavelength  intensity\n",
      "0   399.8645        0.0\n",
      "1   401.0927        0.0\n",
      "2   402.3212        0.0\n",
      "3   403.5499        0.0\n",
      "4   404.7787        0.0\n"
     ]
    }
   ],
   "source": [
    "test_matrix = XMatrix(fluorophore_ID_vector = ['DsRed', 'ZsYellow', 'Chl', 'Diffraction'],\n",
    "                      spectral_library_path = \"/scratch2/NSF_GWAS/GMOdetectoR/spectra_library/\",\n",
    "                      intercept = 1,\n",
    "                      wavelengths = wavelengths,\n",
    "                      min_desired_wavelength = 450,\n",
    "                      max_desired_wavelength = 750)"
   ]
  },
  {
   "cell_type": "code",
   "execution_count": 22,
   "metadata": {},
   "outputs": [
    {
     "data": {
      "text/plain": [
       "array(['450.3967', '451.6337', '452.8708', '454.1082', '455.3458',\n",
       "       '456.5836', '457.8216', '459.0598', '460.2983', '461.5369',\n",
       "       '462.7758', '464.0149', '465.2542', '466.4937', '467.7334',\n",
       "       '468.9733', '470.2134', '471.4538', '472.6943', '473.9351',\n",
       "       '475.1761', '476.4173', '477.6587', '478.9003', '480.1422',\n",
       "       '481.3842', '482.6265', '483.869', '485.1116', '486.3546',\n",
       "       '487.5977', '488.841', '490.0845', '491.3282', '492.5722',\n",
       "       '493.8164', '495.0608', '496.3054', '497.5502', '498.7952',\n",
       "       '500.0404', '501.2859', '502.5315', '503.7774', '505.0235',\n",
       "       '506.2698', '507.5163', '508.763', '510.0099', '511.2571',\n",
       "       '512.5044', '513.752', '514.9998', '516.2477', '517.496',\n",
       "       '518.7444', '519.993', '521.2418', '522.4908', '523.7402',\n",
       "       '524.9896', '526.2394', '527.4893', '528.7394', '529.9897',\n",
       "       '531.2402', '532.491', '533.7419', '534.9932', '536.2445',\n",
       "       '537.4961', '538.7479', '539.9999', '541.2522', '542.5046',\n",
       "       '543.7573', '545.0102', '546.2633', '547.5166', '548.7701',\n",
       "       '550.0238', '551.2777', '552.5319', '553.7863', '555.0408',\n",
       "       '556.2956', '557.5506', '558.8058', '560.0613', '561.3169',\n",
       "       '562.5728', '563.8288', '565.0851', '566.3416', '567.5983',\n",
       "       '568.8552', '570.1123', '571.3696', '572.6272', '573.8849',\n",
       "       '575.1429', '576.4011', '577.6595', '578.9181', '580.1769',\n",
       "       '581.4359', '582.6952', '583.9547', '585.2143', '586.4742',\n",
       "       '587.7343', '588.9946', '590.2551', '591.5159', '592.7768',\n",
       "       '594.038', '595.2993', '596.5609', '597.8227', '599.0847',\n",
       "       '600.3469', '601.6094', '602.8719', '604.1348', '605.3979',\n",
       "       '606.6612', '607.9247', '609.1884', '610.4523', '611.7164',\n",
       "       '612.9808', '614.2453', '615.5101', '616.775', '618.0403',\n",
       "       '619.3057', '620.5713', '621.8371', '623.1031', '624.3694',\n",
       "       '625.6359', '626.9025', '628.1694', '629.4365', '630.7039',\n",
       "       '631.9713', '633.2391', '634.507', '635.7752', '637.0436',\n",
       "       '638.3121', '639.5809', '640.85', '642.1192', '643.3886',\n",
       "       '644.6583', '645.9282', '647.1982', '648.4685', '649.739',\n",
       "       '651.0097', '652.2806', '653.5518', '654.8231', '656.0947',\n",
       "       '657.3665', '658.6384', '659.9106', '661.183', '662.4557',\n",
       "       '663.7285', '665.0015', '666.2748', '667.5482', '668.8219',\n",
       "       '670.0958', '671.3699', '672.6443', '673.9188', '675.1935',\n",
       "       '676.4685', '677.7437', '679.019', '680.2947', '681.5704',\n",
       "       '682.8465', '684.1227', '685.3992', '686.6758', '687.9526',\n",
       "       '689.2297', '690.5071', '691.7845', '693.0623', '694.3402',\n",
       "       '695.6183', '696.8967', '698.1753', '699.454', '700.733',\n",
       "       '702.0122', '703.2916', '704.5713', '705.8511', '707.1311',\n",
       "       '708.4114', '709.6919', '710.9726', '712.2535', '713.5346',\n",
       "       '714.8159', '716.0974', '717.3793', '718.6611', '719.9434',\n",
       "       '721.2257', '722.5084', '723.7911', '725.0742', '726.3574',\n",
       "       '727.6409', '728.9246', '730.2084', '731.4925', '732.7768',\n",
       "       '734.0613', '735.346', '736.631', '737.9161', '739.2014',\n",
       "       '740.4871', '741.7728', '743.0588', '744.345', '745.6315',\n",
       "       '746.9181', '748.205', '749.4919'], dtype='<U8')"
      ]
     },
     "execution_count": 22,
     "metadata": {},
     "output_type": "execute_result"
    }
   ],
   "source": [
    "test_matrix.wavelengths"
   ]
  },
  {
   "cell_type": "code",
   "execution_count": 30,
   "metadata": {},
   "outputs": [
    {
     "data": {
      "text/plain": [
       "238"
      ]
     },
     "execution_count": 30,
     "metadata": {},
     "output_type": "execute_result"
    }
   ],
   "source": [
    "len(test_matrix.wavelengths)"
   ]
  },
  {
   "cell_type": "code",
   "execution_count": 26,
   "metadata": {},
   "outputs": [
    {
     "data": {
      "text/plain": [
       "array([[[ 1.,  0.,  0.,  0.,  0.],\n",
       "        [ 1.,  0.,  0.,  0.,  0.],\n",
       "        [ 1.,  0.,  0.,  0.,  0.],\n",
       "        ...,\n",
       "        [ 1.,  0., nan,  0.,  0.],\n",
       "        [ 1.,  0., nan,  0.,  0.],\n",
       "        [ 1.,  0., nan,  0.,  0.]]])"
      ]
     },
     "execution_count": 26,
     "metadata": {},
     "output_type": "execute_result"
    }
   ],
   "source": [
    "test_matrix.matrix"
   ]
  },
  {
   "cell_type": "code",
   "execution_count": 27,
   "metadata": {},
   "outputs": [
    {
     "data": {
      "text/plain": [
       "(1, 238, 5)"
      ]
     },
     "execution_count": 27,
     "metadata": {},
     "output_type": "execute_result"
    }
   ],
   "source": [
    "test_matrix.matrix.shape"
   ]
  },
  {
   "cell_type": "code",
   "execution_count": 28,
   "metadata": {},
   "outputs": [
    {
     "data": {
      "text/plain": [
       "['Intercept', 'DsRed', 'ZsYellow', 'Chl', 'Diffraction']"
      ]
     },
     "execution_count": 28,
     "metadata": {},
     "output_type": "execute_result"
    }
   ],
   "source": [
    "test_matrix.components"
   ]
  },
  {
   "cell_type": "markdown",
   "metadata": {},
   "source": [
    "##### Success!"
   ]
  },
  {
   "cell_type": "markdown",
   "metadata": {},
   "source": [
    "However, note that we still need to convert nan/NA to 0 in X... and plot... add both of these functions to the class. New version of class is below."
   ]
  },
  {
   "cell_type": "code",
   "execution_count": 31,
   "metadata": {},
   "outputs": [],
   "source": [
    "import matplotlib.pyplot as plt"
   ]
  },
  {
   "cell_type": "code",
   "execution_count": null,
   "metadata": {},
   "outputs": [],
   "source": []
  },
  {
   "cell_type": "code",
   "execution_count": 133,
   "metadata": {},
   "outputs": [],
   "source": [
    "class XMatrix:\n",
    "    \"\"\"A design matrix for multiple linear regression, with effect and observation labels\n",
    "    \n",
    "    :param value: value to set as the ``attribute`` attribute\n",
    "    :ivar attribute: contains the contents of ``values`` passed as init\n",
    "    \n",
    "    \"\"\"\n",
    "    #i = 12345\n",
    "\n",
    "    def _nan_to_zero(self):\n",
    "        return(np.nan_to_num(self.matrix))\n",
    "    \n",
    "    def _plot(self, tick_step = np.int(50)):\n",
    "        # style\n",
    "        plt.style.use('seaborn-darkgrid')\n",
    "\n",
    "        # create a color palette\n",
    "        palette = plt.get_cmap('Set1')\n",
    "\n",
    "        # multiple line plot\n",
    "        num=0\n",
    "\n",
    "        XMatrix_plottable = pd.DataFrame(self.matrix)\n",
    "\n",
    "        for column in XMatrix_plottable:\n",
    "            num+=1 \n",
    "            plt.plot(self.wavelengths,\n",
    "                     XMatrix_plottable[column],\n",
    "                     marker='',\n",
    "                     color=palette(num),\n",
    "                     linewidth=1, alpha=0.9,\n",
    "                     label=column)\n",
    "\n",
    "        # Add legend\n",
    "        plt.legend(loc=2, ncol=2)\n",
    "        print(\"HEY\")\n",
    "        print(self.wavelengths.shape[0]-1)\n",
    "        print(len(self.wavelengths))\n",
    "        \n",
    "        # Change tick marks\n",
    "        #plt.xticks(np.arange(start = float(min(self.wavelengths)),\n",
    "        #                     stop = float(max(self.wavelengths)),\n",
    "        #                     step = tick_step))\n",
    "        \n",
    "\n",
    "        # Add titles\n",
    "        plt.title(\"Design matrix of spectral components\", loc='left', fontsize=12, fontweight=0, color='orange')\n",
    "        plt.xlabel(\"Wavelength (nm)\")\n",
    "        plt.ylabel(\"Signal intensity (normalized)\")\n",
    "    \n",
    "    def __init__(self, fluorophore_ID_vector, spectral_library_path,\n",
    "                 intercept, wavelengths,\n",
    "                 min_desired_wavelength, max_desired_wavelength):\n",
    "        # Define attribute with contents of the value param\n",
    "        \n",
    "        if intercept == 1:\n",
    "            components = fluorophore_ID_vector.copy()\n",
    "            components.insert(0, \"Intercept\")\n",
    "        \n",
    "        self.matrix = build_X(fluorophore_ID_vector = fluorophore_ID_vector,\n",
    "                                             spectral_library_path = spectral_library_path,\n",
    "                                             intercept = intercept,\n",
    "                                             wavelengths = wavelengths,\n",
    "                                             min_desired_wavelength = min_desired_wavelength,\n",
    "                                             max_desired_wavelength = max_desired_wavelength)\n",
    "        self.wavelengths = np.asarray(wavelengths)[find_desired_indices(wavelengths,\n",
    "                                                            min_desired_wavelength,\n",
    "                                                            max_desired_wavelength)] #BUG! This is not the trimmed range...\n",
    "        self.components = components"
   ]
  },
  {
   "cell_type": "code",
   "execution_count": 68,
   "metadata": {
    "collapsed": true,
    "jupyter": {
     "outputs_hidden": true,
     "source_hidden": true
    }
   },
   "outputs": [
    {
     "name": "stdout",
     "output_type": "stream",
     "text": [
      "0\n",
      "  wavelength  intensity\n",
      "0   399.8645   0.000201\n",
      "1   401.0927   0.000201\n",
      "2   402.3212   0.000201\n",
      "3   403.5499   0.000201\n",
      "4   404.7787   0.000201\n",
      "0.01\n",
      "  wavelength  intensity\n",
      "0   399.8645        0.0\n",
      "1   401.0927        0.0\n",
      "2   402.3212        0.0\n",
      "3   403.5499        0.0\n",
      "4   404.7787        0.0\n",
      "1\n",
      "  wavelength  intensity\n",
      "0   399.8645        NaN\n",
      "1   401.0927        NaN\n",
      "2   402.3212        NaN\n",
      "3   403.5499        NaN\n",
      "4   404.7787   0.000706\n",
      "0.01\n",
      "  wavelength  intensity\n",
      "0   399.8645        NaN\n",
      "1   401.0927        NaN\n",
      "2   402.3212        NaN\n",
      "3   403.5499        NaN\n",
      "4   404.7787        0.0\n",
      "2\n",
      "  wavelength  intensity\n",
      "0   399.8645   0.001076\n",
      "1   401.0927   0.001076\n",
      "2   402.3212   0.001076\n",
      "3   403.5499   0.001076\n",
      "4   404.7787   0.001076\n",
      "0.01\n",
      "  wavelength  intensity\n",
      "0   399.8645        0.0\n",
      "1   401.0927        0.0\n",
      "2   402.3212        0.0\n",
      "3   403.5499        0.0\n",
      "4   404.7787        0.0\n",
      "3\n",
      "  wavelength  intensity\n",
      "0   399.8645   0.008441\n",
      "1   401.0927   0.008441\n",
      "2   402.3212   0.008441\n",
      "3   403.5499   0.008441\n",
      "4   404.7787   0.008441\n",
      "0.01\n",
      "  wavelength  intensity\n",
      "0   399.8645        0.0\n",
      "1   401.0927        0.0\n",
      "2   402.3212        0.0\n",
      "3   403.5499        0.0\n",
      "4   404.7787        0.0\n"
     ]
    }
   ],
   "source": [
    "test_matrix = XMatrix(fluorophore_ID_vector = ['DsRed', 'ZsYellow', 'Chl', 'Diffraction'],\n",
    "                      spectral_library_path = \"/scratch2/NSF_GWAS/GMOdetectoR/spectra_library/\",\n",
    "                      intercept = 1,\n",
    "                      wavelengths = wavelengths,\n",
    "                      min_desired_wavelength = 450,\n",
    "                      max_desired_wavelength = 750)"
   ]
  },
  {
   "cell_type": "code",
   "execution_count": 36,
   "metadata": {
    "collapsed": true,
    "jupyter": {
     "outputs_hidden": true,
     "source_hidden": true
    }
   },
   "outputs": [
    {
     "ename": "ValueError",
     "evalue": "Must pass 2-d input. shape=(1, 238, 5)",
     "output_type": "error",
     "traceback": [
      "\u001b[0;31m---------------------------------------------------------------------------\u001b[0m",
      "\u001b[0;31mValueError\u001b[0m                                Traceback (most recent call last)",
      "\u001b[0;32m<ipython-input-36-98a7915307d4>\u001b[0m in \u001b[0;36m<module>\u001b[0;34m\u001b[0m\n\u001b[0;32m----> 1\u001b[0;31m \u001b[0mtest_matrix\u001b[0m\u001b[0;34m.\u001b[0m\u001b[0m_plot\u001b[0m\u001b[0;34m(\u001b[0m\u001b[0;34m)\u001b[0m\u001b[0;34m\u001b[0m\u001b[0;34m\u001b[0m\u001b[0m\n\u001b[0m",
      "\u001b[0;32m<ipython-input-33-86896f952fc9>\u001b[0m in \u001b[0;36m_plot\u001b[0;34m(self)\u001b[0m\n\u001b[1;32m     21\u001b[0m         \u001b[0mnum\u001b[0m\u001b[0;34m=\u001b[0m\u001b[0;36m0\u001b[0m\u001b[0;34m\u001b[0m\u001b[0;34m\u001b[0m\u001b[0m\n\u001b[1;32m     22\u001b[0m \u001b[0;34m\u001b[0m\u001b[0m\n\u001b[0;32m---> 23\u001b[0;31m         \u001b[0mXMatrix_plottable\u001b[0m \u001b[0;34m=\u001b[0m \u001b[0mpd\u001b[0m\u001b[0;34m.\u001b[0m\u001b[0mDataFrame\u001b[0m\u001b[0;34m(\u001b[0m\u001b[0mself\u001b[0m\u001b[0;34m.\u001b[0m\u001b[0mmatrix\u001b[0m\u001b[0;34m)\u001b[0m\u001b[0;34m\u001b[0m\u001b[0;34m\u001b[0m\u001b[0m\n\u001b[0m\u001b[1;32m     24\u001b[0m \u001b[0;34m\u001b[0m\u001b[0m\n\u001b[1;32m     25\u001b[0m         \u001b[0;32mfor\u001b[0m \u001b[0mcolumn\u001b[0m \u001b[0;32min\u001b[0m \u001b[0mXMatrix_plottable\u001b[0m\u001b[0;34m.\u001b[0m\u001b[0mdrop\u001b[0m\u001b[0;34m(\u001b[0m\u001b[0;34m'x'\u001b[0m\u001b[0;34m,\u001b[0m \u001b[0maxis\u001b[0m\u001b[0;34m=\u001b[0m\u001b[0;36m1\u001b[0m\u001b[0;34m)\u001b[0m\u001b[0;34m:\u001b[0m\u001b[0;34m\u001b[0m\u001b[0;34m\u001b[0m\u001b[0m\n",
      "\u001b[0;32m/scratch2/NSF_GWAS/anaconda3/lib/python3.7/site-packages/pandas/core/frame.py\u001b[0m in \u001b[0;36m__init__\u001b[0;34m(self, data, index, columns, dtype, copy)\u001b[0m\n\u001b[1;32m    495\u001b[0m                 \u001b[0mmgr\u001b[0m \u001b[0;34m=\u001b[0m \u001b[0minit_dict\u001b[0m\u001b[0;34m(\u001b[0m\u001b[0;34m{\u001b[0m\u001b[0mdata\u001b[0m\u001b[0;34m.\u001b[0m\u001b[0mname\u001b[0m\u001b[0;34m:\u001b[0m \u001b[0mdata\u001b[0m\u001b[0;34m}\u001b[0m\u001b[0;34m,\u001b[0m \u001b[0mindex\u001b[0m\u001b[0;34m,\u001b[0m \u001b[0mcolumns\u001b[0m\u001b[0;34m,\u001b[0m \u001b[0mdtype\u001b[0m\u001b[0;34m=\u001b[0m\u001b[0mdtype\u001b[0m\u001b[0;34m)\u001b[0m\u001b[0;34m\u001b[0m\u001b[0;34m\u001b[0m\u001b[0m\n\u001b[1;32m    496\u001b[0m             \u001b[0;32melse\u001b[0m\u001b[0;34m:\u001b[0m\u001b[0;34m\u001b[0m\u001b[0;34m\u001b[0m\u001b[0m\n\u001b[0;32m--> 497\u001b[0;31m                 \u001b[0mmgr\u001b[0m \u001b[0;34m=\u001b[0m \u001b[0minit_ndarray\u001b[0m\u001b[0;34m(\u001b[0m\u001b[0mdata\u001b[0m\u001b[0;34m,\u001b[0m \u001b[0mindex\u001b[0m\u001b[0;34m,\u001b[0m \u001b[0mcolumns\u001b[0m\u001b[0;34m,\u001b[0m \u001b[0mdtype\u001b[0m\u001b[0;34m=\u001b[0m\u001b[0mdtype\u001b[0m\u001b[0;34m,\u001b[0m \u001b[0mcopy\u001b[0m\u001b[0;34m=\u001b[0m\u001b[0mcopy\u001b[0m\u001b[0;34m)\u001b[0m\u001b[0;34m\u001b[0m\u001b[0;34m\u001b[0m\u001b[0m\n\u001b[0m\u001b[1;32m    498\u001b[0m \u001b[0;34m\u001b[0m\u001b[0m\n\u001b[1;32m    499\u001b[0m         \u001b[0;31m# For data is list-like, or Iterable (will consume into list)\u001b[0m\u001b[0;34m\u001b[0m\u001b[0;34m\u001b[0m\u001b[0;34m\u001b[0m\u001b[0m\n",
      "\u001b[0;32m/scratch2/NSF_GWAS/anaconda3/lib/python3.7/site-packages/pandas/core/internals/construction.py\u001b[0m in \u001b[0;36minit_ndarray\u001b[0;34m(values, index, columns, dtype, copy)\u001b[0m\n\u001b[1;32m    188\u001b[0m     \u001b[0;31m# by definition an array here\u001b[0m\u001b[0;34m\u001b[0m\u001b[0;34m\u001b[0m\u001b[0;34m\u001b[0m\u001b[0m\n\u001b[1;32m    189\u001b[0m     \u001b[0;31m# the dtypes will be coerced to a single dtype\u001b[0m\u001b[0;34m\u001b[0m\u001b[0;34m\u001b[0m\u001b[0;34m\u001b[0m\u001b[0m\n\u001b[0;32m--> 190\u001b[0;31m     \u001b[0mvalues\u001b[0m \u001b[0;34m=\u001b[0m \u001b[0m_prep_ndarray\u001b[0m\u001b[0;34m(\u001b[0m\u001b[0mvalues\u001b[0m\u001b[0;34m,\u001b[0m \u001b[0mcopy\u001b[0m\u001b[0;34m=\u001b[0m\u001b[0mcopy\u001b[0m\u001b[0;34m)\u001b[0m\u001b[0;34m\u001b[0m\u001b[0;34m\u001b[0m\u001b[0m\n\u001b[0m\u001b[1;32m    191\u001b[0m \u001b[0;34m\u001b[0m\u001b[0m\n\u001b[1;32m    192\u001b[0m     \u001b[0;32mif\u001b[0m \u001b[0mdtype\u001b[0m \u001b[0;32mis\u001b[0m \u001b[0;32mnot\u001b[0m \u001b[0;32mNone\u001b[0m\u001b[0;34m:\u001b[0m\u001b[0;34m\u001b[0m\u001b[0;34m\u001b[0m\u001b[0m\n",
      "\u001b[0;32m/scratch2/NSF_GWAS/anaconda3/lib/python3.7/site-packages/pandas/core/internals/construction.py\u001b[0m in \u001b[0;36m_prep_ndarray\u001b[0;34m(values, copy)\u001b[0m\n\u001b[1;32m    322\u001b[0m         \u001b[0mvalues\u001b[0m \u001b[0;34m=\u001b[0m \u001b[0mvalues\u001b[0m\u001b[0;34m.\u001b[0m\u001b[0mreshape\u001b[0m\u001b[0;34m(\u001b[0m\u001b[0;34m(\u001b[0m\u001b[0mvalues\u001b[0m\u001b[0;34m.\u001b[0m\u001b[0mshape\u001b[0m\u001b[0;34m[\u001b[0m\u001b[0;36m0\u001b[0m\u001b[0;34m]\u001b[0m\u001b[0;34m,\u001b[0m \u001b[0;36m1\u001b[0m\u001b[0;34m)\u001b[0m\u001b[0;34m)\u001b[0m\u001b[0;34m\u001b[0m\u001b[0;34m\u001b[0m\u001b[0m\n\u001b[1;32m    323\u001b[0m     \u001b[0;32melif\u001b[0m \u001b[0mvalues\u001b[0m\u001b[0;34m.\u001b[0m\u001b[0mndim\u001b[0m \u001b[0;34m!=\u001b[0m \u001b[0;36m2\u001b[0m\u001b[0;34m:\u001b[0m\u001b[0;34m\u001b[0m\u001b[0;34m\u001b[0m\u001b[0m\n\u001b[0;32m--> 324\u001b[0;31m         \u001b[0;32mraise\u001b[0m \u001b[0mValueError\u001b[0m\u001b[0;34m(\u001b[0m\u001b[0;34mf\"Must pass 2-d input. shape={values.shape}\"\u001b[0m\u001b[0;34m)\u001b[0m\u001b[0;34m\u001b[0m\u001b[0;34m\u001b[0m\u001b[0m\n\u001b[0m\u001b[1;32m    325\u001b[0m \u001b[0;34m\u001b[0m\u001b[0m\n\u001b[1;32m    326\u001b[0m     \u001b[0;32mreturn\u001b[0m \u001b[0mvalues\u001b[0m\u001b[0;34m\u001b[0m\u001b[0;34m\u001b[0m\u001b[0m\n",
      "\u001b[0;31mValueError\u001b[0m: Must pass 2-d input. shape=(1, 238, 5)"
     ]
    }
   ],
   "source": [
    "test_matrix._plot()"
   ]
  },
  {
   "cell_type": "markdown",
   "metadata": {},
   "source": [
    "##### I need to modify build_X so the shape comes out as (238, 5)"
   ]
  },
  {
   "cell_type": "code",
   "execution_count": 41,
   "metadata": {
    "collapsed": true,
    "jupyter": {
     "outputs_hidden": true,
     "source_hidden": true
    }
   },
   "outputs": [
    {
     "data": {
      "text/plain": [
       "(238, 5)"
      ]
     },
     "execution_count": 41,
     "metadata": {},
     "output_type": "execute_result"
    }
   ],
   "source": [
    "test_matrix.matrix[0,:,:].shape"
   ]
  },
  {
   "cell_type": "code",
   "execution_count": 42,
   "metadata": {
    "jupyter": {
     "source_hidden": true
    }
   },
   "outputs": [],
   "source": [
    "def read_fit_spectra(spectra_path, wavelengths, plot=False, spectra_noise_threshold = 0.01):\n",
    "    \n",
    "    numpy2ri.activate()\n",
    "\n",
    "    pub_emission_spectrum = pd.read_csv(spectra_path)\n",
    "    pub_emission_spectrum = pub_emission_spectrum.rename(columns={'emission wavelength (nm)': 'wavelength'})\n",
    "    pub_emission_spectrum = pub_emission_spectrum.rename(columns={'Normalized emission': 'intensity'})\n",
    "\n",
    "    # Convert pandas object to something R-friendly https://rpy2.github.io/doc/latest/html/pandas.html\n",
    "    with localconverter(ro.default_converter + ro.pandas2ri.converter):\n",
    "        r_from_pd_df = ro.conversion.py2rpy(pub_emission_spectrum) # If not in rpy2=2.9.4 may have error here due to no attribute 'py2rpy'\n",
    "\n",
    "    # Use rpy2 so we can use loess from R, as in old version, get same exact results\n",
    "    # Fit\n",
    "    fit = stats.loess(ro.Formula('intensity~wavelength'), data=r_from_pd_df, span=0.1)\n",
    "\n",
    "    # Predict\n",
    "    predictions = stats.predict(fit, wavelengths)\n",
    "    predictions = scales.rescale(predictions, center='FALSE') # by default, scales between 0 and 1.\n",
    "\n",
    "    # Scale\n",
    "    scaled_emission_spectra = {'wavelength': wavelengths, 'intensity': predictions}\n",
    "    scaled_emission_spectra = pd.DataFrame(scaled_emission_spectra)\n",
    "\n",
    "    # Denoise\n",
    "    print(scaled_emission_spectra.head())\n",
    "    print(spectra_noise_threshold)\n",
    "    scaled_emission_spectra.loc[scaled_emission_spectra['intensity'] < spectra_noise_threshold, 'intensity'] = 0\n",
    "    print(scaled_emission_spectra.head())\n",
    "    if plot == True:\n",
    "        print('Plotting not supported here yet.')\n",
    "\n",
    "    numpy2ri.deactivate()\n",
    "        \n",
    "    return(scaled_emission_spectra)\n",
    "\n",
    "def find_desired_indices(wavelengths, min_desired_wavelength, max_desired_wavelength):\n",
    "    wavelengths = np.asarray(wavelengths)\n",
    "    # https://stackoverflow.com/questions/13869173/numpy-find-index-of-the-elements-within-range\n",
    "    wavelength_indices_desired = np.where(np.logical_and(wavelengths.astype(float)>=min_desired_wavelength,\n",
    "                                                          wavelengths.astype(float)<=max_desired_wavelength))\n",
    "    return(wavelength_indices_desired)\n",
    "\n",
    "def build_X(fluorophore_ID_vector, spectral_library_path, \n",
    "            intercept, wavelengths,\n",
    "            min_desired_wavelength, max_desired_wavelength):  \n",
    "    \n",
    "    for i in range(0, (len(fluorophore_ID_vector))):\n",
    "        print(i)\n",
    "        path = (spectral_library_path + str(fluorophore_ID_vector[i]) + \".csv\")\n",
    "        if(os.path.isfile(path) == False):\n",
    "            raise NameError(\"Error: Spectrum for \" + fluorophore_ID_vector[i] + \" not found in spectra_library folder\")\n",
    "\n",
    "        spectra = read_fit_spectra(spectra_path = path,\n",
    "                                   wavelengths = wavelengths,\n",
    "                                   plot = False,\n",
    "                                   spectra_noise_threshold = 0.01)\n",
    "\n",
    "        if(i==0 and intercept==1):\n",
    "            intercept_vector = [1] * len(wavelengths)\n",
    "            # https://stackoverflow.com/questions/43961585/cbind-r-function-equivalent-in-numpy\n",
    "            mm = np.c_[(intercept_vector, np.asarray(spectra['intensity']))] \n",
    "\n",
    "        if(i==0 and intercept==0):\n",
    "            mm = np.array(spectra['intensity'])\n",
    "\n",
    "        if(i>0):\n",
    "            # https://stackoverflow.com/questions/43961585/cbind-r-function-equivalent-in-numpy\n",
    "            mm = np.c_[mm, np.array(spectra['intensity'])] \n",
    "\n",
    "    wavelength_indices_desired = find_desired_indices(wavelengths, min_desired_wavelength, max_desired_wavelength)\n",
    "\n",
    "    mm_subset = mm[wavelength_indices_desired,]\n",
    "    \n",
    "    mm_2d = mm_subset[0,:,:]\n",
    "    \n",
    "    return(mm_2d)"
   ]
  },
  {
   "cell_type": "markdown",
   "metadata": {},
   "source": [
    "##### Now try again..."
   ]
  },
  {
   "cell_type": "code",
   "execution_count": 134,
   "metadata": {},
   "outputs": [
    {
     "name": "stdout",
     "output_type": "stream",
     "text": [
      "0\n",
      "  wavelength  intensity\n",
      "0   399.8645   0.000201\n",
      "1   401.0927   0.000201\n",
      "2   402.3212   0.000201\n",
      "3   403.5499   0.000201\n",
      "4   404.7787   0.000201\n",
      "0.01\n",
      "  wavelength  intensity\n",
      "0   399.8645        0.0\n",
      "1   401.0927        0.0\n",
      "2   402.3212        0.0\n",
      "3   403.5499        0.0\n",
      "4   404.7787        0.0\n",
      "1\n",
      "  wavelength  intensity\n",
      "0   399.8645        NaN\n",
      "1   401.0927        NaN\n",
      "2   402.3212        NaN\n",
      "3   403.5499        NaN\n",
      "4   404.7787   0.000706\n",
      "0.01\n",
      "  wavelength  intensity\n",
      "0   399.8645        NaN\n",
      "1   401.0927        NaN\n",
      "2   402.3212        NaN\n",
      "3   403.5499        NaN\n",
      "4   404.7787        0.0\n",
      "2\n",
      "  wavelength  intensity\n",
      "0   399.8645   0.001076\n",
      "1   401.0927   0.001076\n",
      "2   402.3212   0.001076\n",
      "3   403.5499   0.001076\n",
      "4   404.7787   0.001076\n",
      "0.01\n",
      "  wavelength  intensity\n",
      "0   399.8645        0.0\n",
      "1   401.0927        0.0\n",
      "2   402.3212        0.0\n",
      "3   403.5499        0.0\n",
      "4   404.7787        0.0\n",
      "3\n",
      "  wavelength  intensity\n",
      "0   399.8645   0.008441\n",
      "1   401.0927   0.008441\n",
      "2   402.3212   0.008441\n",
      "3   403.5499   0.008441\n",
      "4   404.7787   0.008441\n",
      "0.01\n",
      "  wavelength  intensity\n",
      "0   399.8645        0.0\n",
      "1   401.0927        0.0\n",
      "2   402.3212        0.0\n",
      "3   403.5499        0.0\n",
      "4   404.7787        0.0\n"
     ]
    }
   ],
   "source": [
    "test_matrix = XMatrix(fluorophore_ID_vector = ['DsRed', 'ZsYellow', 'Chl', 'Diffraction'],\n",
    "                      spectral_library_path = \"/scratch2/NSF_GWAS/GMOdetectoR/spectra_library/\",\n",
    "                      intercept = 1,\n",
    "                      wavelengths = wavelengths,\n",
    "                      min_desired_wavelength = 450,\n",
    "                      max_desired_wavelength = 750)"
   ]
  },
  {
   "cell_type": "code",
   "execution_count": 135,
   "metadata": {},
   "outputs": [
    {
     "name": "stdout",
     "output_type": "stream",
     "text": [
      "HEY\n",
      "237\n",
      "238\n"
     ]
    },
    {
     "data": {
      "image/png": "[encoded data removed]",
      "text/plain": [
       "<Figure size 432x288 with 1 Axes>"
      ]
     },
     "metadata": {},
     "output_type": "display_data"
    }
   ],
   "source": [
    "test_matrix._plot()"
   ]
  },
  {
   "cell_type": "code",
   "execution_count": 66,
   "metadata": {},
   "outputs": [
    {
     "data": {
      "text/plain": [
       "array([[1., 0., 0., 0., 0.],\n",
       "       [1., 0., 0., 0., 0.],\n",
       "       [1., 0., 0., 0., 0.],\n",
       "       ...,\n",
       "       [1., 0., 0., 0., 0.],\n",
       "       [1., 0., 0., 0., 0.],\n",
       "       [1., 0., 0., 0., 0.]])"
      ]
     },
     "execution_count": 66,
     "metadata": {},
     "output_type": "execute_result"
    }
   ],
   "source": [
    "test_matrix._nan_to_zero()"
   ]
  },
  {
   "cell_type": "code",
   "execution_count": 117,
   "metadata": {},
   "outputs": [
    {
     "data": {
      "text/plain": [
       "'450.3967'"
      ]
     },
     "execution_count": 117,
     "metadata": {},
     "output_type": "execute_result"
    }
   ],
   "source": [
    "min(test_matrix.wavelengths)"
   ]
  },
  {
   "cell_type": "code",
   "execution_count": 123,
   "metadata": {},
   "outputs": [
    {
     "data": {
      "text/plain": [
       "numpy.str_"
      ]
     },
     "execution_count": 123,
     "metadata": {},
     "output_type": "execute_result"
    }
   ],
   "source": [
    "type(max(test_matrix.wavelengths))"
   ]
  },
  {
   "cell_type": "code",
   "execution_count": 124,
   "metadata": {},
   "outputs": [],
   "source": [
    "variable = 8"
   ]
  },
  {
   "cell_type": "code",
   "execution_count": 125,
   "metadata": {},
   "outputs": [
    {
     "data": {
      "text/plain": [
       "int"
      ]
     },
     "execution_count": 125,
     "metadata": {},
     "output_type": "execute_result"
    }
   ],
   "source": [
    "type(variable)"
   ]
  },
  {
   "cell_type": "code",
   "execution_count": null,
   "metadata": {},
   "outputs": [],
   "source": []
  },
  {
   "cell_type": "code",
   "execution_count": 126,
   "metadata": {},
   "outputs": [
    {
     "data": {
      "text/plain": [
       "array([450.3967, 500.3967, 550.3967, 600.3967, 650.3967, 700.3967])"
      ]
     },
     "execution_count": 126,
     "metadata": {},
     "output_type": "execute_result"
    }
   ],
   "source": [
    "np.arange(start = float(min(test_matrix.wavelengths)),\n",
    "          stop = float(max(test_matrix.wavelengths)),\n",
    "          step = 50)"
   ]
  },
  {
   "cell_type": "code",
   "execution_count": null,
   "metadata": {},
   "outputs": [],
   "source": []
  }
 ],
 "metadata": {
  "kernelspec": {
   "display_name": "Python (base)",
   "language": "python",
   "name": "base"
  },
  "language_info": {
   "codemirror_mode": {
    "name": "ipython",
    "version": 3
   },
   "file_extension": ".py",
   "mimetype": "text/x-python",
   "name": "python",
   "nbconvert_exporter": "python",
   "pygments_lexer": "ipython3",
   "version": "3.7.4"
  }
 },
 "nbformat": 4,
 "nbformat_minor": 4
}
